{
 "cells": [
  {
   "attachments": {},
   "cell_type": "markdown",
   "metadata": {},
   "source": [
    "### Conclusion\n",
    "Overall the project represented an invaluable learning experience. We were able to start with a proof by manipulating a dataset based on the slides and our model evolved as we progressed to larger sets first developing a cosine similarity based item-item model and finally using latent factors. Interestingly for our data set the item-item cosine similarity model performed the best with regards to our evaluations and our data set in question. \n",
    "\n",
    "Our content-based recommender allowed for flexibility and customization as it was able to adjust its recommendation with ratings of the users. Furthermore, it was able to work without needed a dataset about specific users, allowing  it to avoid the cold-start problem. The downside of it is that it provided a limited scope, as it is only able to recommend movies that are of similar genres, and may not recommend items outside of those genres' scope. That downside can be covered with collaborative recommender system, which matches the user's preference to a profile. The collaborative provides a better overall representation of the user's preference, but requires a lot of data to be accurate.\n"
   ]
  }
 ],
 "metadata": {
  "language_info": {
   "name": "python"
  },
  "orig_nbformat": 4
 },
 "nbformat": 4,
 "nbformat_minor": 2
}
