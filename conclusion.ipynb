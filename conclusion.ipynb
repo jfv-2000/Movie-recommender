{
 "cells": [
  {
   "attachments": {},
   "cell_type": "markdown",
   "metadata": {},
   "source": [
    "add stuff in readme about this... instead - mention some concepts from the slides\n",
    "### Conclusion\n",
    "Overall the project represented an invaluable learning experience. We were able to start with a proof by manipulating a dataset based on the slides and our model evolved as we progressed to larger sets first developing a cosine similarity based item-item model and finally using latent factors. Interestingly for our data set the item-item cosine similarity model performed the best with regards to our evaluations and our data set in question. \n",
    "\n"
   ]
  }
 ],
 "metadata": {
  "language_info": {
   "name": "python"
  },
  "orig_nbformat": 4
 },
 "nbformat": 4,
 "nbformat_minor": 2
}
