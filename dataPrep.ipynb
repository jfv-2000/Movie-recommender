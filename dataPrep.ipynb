{
 "cells": [
  {
   "cell_type": "code",
   "execution_count": 126,
   "metadata": {},
   "outputs": [],
   "source": [
    "import os\n",
    "from pyspark.sql import SparkSession\n",
    "from pyspark.sql.functions import col, explode, from_json, col, explode,lower, collect_list,concat_ws\n",
    "from pyspark.sql.types import StructType, StructField, IntegerType, StringType, ArrayType\n",
    "from pyspark.ml.feature import OneHotEncoder, StringIndexer, VectorAssembler\n",
    "\n",
    "def init_spark():\n",
    "    spark = SparkSession \\\n",
    "        .builder \\\n",
    "        .appName(\"Python Spark SQL basic example\") \\\n",
    "        .config(\"spark.some.config.option\", \"some-value\") \\\n",
    "        .getOrCreate()\n",
    "    return spark"
   ]
  },
  {
   "cell_type": "code",
   "execution_count": 129,
   "metadata": {},
   "outputs": [
    {
     "name": "stdout",
     "output_type": "stream",
     "text": [
      "+------+--------------------------------------------------+------------------------------------------------+\n",
      "|id    |title                                             |genres                                          |\n",
      "+------+--------------------------------------------------+------------------------------------------------+\n",
      "|10001 |Young Einstein                                    |Comedy,Science Fiction                          |\n",
      "|100010|Flight Command                                    |Drama,War                                       |\n",
      "|10002 |Mona Lisa                                         |Drama,Crime,Romance                             |\n",
      "|100024|Bloodwork                                         |Horror,Thriller                                 |\n",
      "|100032|Released                                          |Drama,Action                                    |\n",
      "|10004 |Desperation                                       |Drama,Fantasy,Horror,Thriller,Mystery           |\n",
      "|10006 |Wild Seven                                        |Action,Crime,Drama                              |\n",
      "|100089|Nazis at the Center of the Earth                  |Adventure,Horror,Action,Thriller,Science Fiction|\n",
      "|10009 |Brother Bear                                      |Adventure,Animation,Family                      |\n",
      "|10011 |Abominable                                        |Horror,Thriller                                 |\n",
      "|10012 |Cursed                                            |Horror,Comedy                                   |\n",
      "|10013 |Peggy Sue Got Married                             |Comedy,Drama,Fantasy,Romance                    |\n",
      "|10014 |A Nightmare on Elm Street Part 2: Freddy's Revenge|Horror                                          |\n",
      "|10015 |Heartbreak Ridge                                  |Action,Comedy,Drama,War                         |\n",
      "|100152|Mars                                              |Comedy                                          |\n",
      "|10016 |Ghosts of Mars                                    |Action,Horror,Science Fiction                   |\n",
      "|10017 |The Wraith                                        |Romance,Science Fiction,Horror,Action,Crime     |\n",
      "|100179|Released                                          |Documentary                                     |\n",
      "|100183|Outpost: Black Sun                                |Action,Horror                                   |\n",
      "|100196|Julian Po                                         |Comedy,Drama,Romance                            |\n",
      "+------+--------------------------------------------------+------------------------------------------------+\n",
      "only showing top 20 rows\n",
      "\n"
     ]
    }
   ],
   "source": [
    "spark = init_spark()\n",
    "movies_df = spark.read.csv(os.path.join(\"data/movies_metadata.csv\"), header=True, inferSchema=True)\n",
    "\n",
    "# Select columns we are interested in\n",
    "movies_df = movies_df.select(\"id\", \"title\", \"genres\").distinct()\n",
    "genres_schema = StructType([\n",
    "    StructField(\"id\", IntegerType(), True),\n",
    "    StructField(\"name\", StringType(), True)\n",
    "])\n",
    "\n",
    "# Convert the \"genres\" column to an array of structs\n",
    "movies_df = movies_df.withColumn(\"genres\", from_json(col(\"genres\"), ArrayType(genres_schema)))\n",
    "\n",
    "movies_df = movies_df.select(\"id\", \"title\", explode(col(\"genres\")).alias(\"genre\")) \\\n",
    "               .select(\"id\", \"title\", col(\"genre.name\").alias(\"genre_name\")) \\\n",
    "               .dropna()\n",
    "\n",
    "# Group the data by id and title, and collect the genre names into a list\n",
    "movies_df = movies_df.groupBy(\"id\", \"title\").agg(collect_list(\"genre_name\").alias(\"genres\"))\n",
    "\n",
    "# Combine the genre names into one string\n",
    "movies_df = movies_df.withColumn(\"genres\", concat_ws(\",\", \"genres\"))\n",
    "movies_df.show(truncate=False)\n"
   ]
  },
  {
   "cell_type": "code",
   "execution_count": 130,
   "metadata": {},
   "outputs": [
    {
     "name": "stdout",
     "output_type": "stream",
     "text": [
      "+------+--------------------------------------------------+------------------------------------------------+---------------+-----+-------+------+--------+------+-------+------+-----------+-------+--------+------+---+-----+-------+---------+---------+-------+-----+-------+\n",
      "|id    |title                                             |genres                                          |Science Fiction|Drama|Romance|Horror|Thriller|Action|Fantasy|Family|Documentary|Western|TV Movie|Comedy|War|Crime|Mystery|Adventure|Animation|History|Music|Foreign|\n",
      "+------+--------------------------------------------------+------------------------------------------------+---------------+-----+-------+------+--------+------+-------+------+-----------+-------+--------+------+---+-----+-------+---------+---------+-------+-----+-------+\n",
      "|10001 |Young Einstein                                    |Comedy,Science Fiction                          |1              |0    |0      |0     |0       |0     |0      |0     |0          |0      |0       |1     |0  |0    |0      |0        |0        |0      |0    |0      |\n",
      "|100010|Flight Command                                    |Drama,War                                       |0              |1    |0      |0     |0       |0     |0      |0     |0          |0      |0       |0     |1  |0    |0      |0        |0        |0      |0    |0      |\n",
      "|10002 |Mona Lisa                                         |Drama,Crime,Romance                             |0              |1    |1      |0     |0       |0     |0      |0     |0          |0      |0       |0     |0  |1    |0      |0        |0        |0      |0    |0      |\n",
      "|100024|Bloodwork                                         |Horror,Thriller                                 |0              |0    |0      |1     |1       |0     |0      |0     |0          |0      |0       |0     |0  |0    |0      |0        |0        |0      |0    |0      |\n",
      "|100032|Released                                          |Drama,Action                                    |0              |1    |0      |0     |0       |1     |0      |0     |0          |0      |0       |0     |0  |0    |0      |0        |0        |0      |0    |0      |\n",
      "|10004 |Desperation                                       |Drama,Fantasy,Horror,Thriller,Mystery           |0              |1    |0      |1     |1       |0     |1      |0     |0          |0      |0       |0     |0  |0    |1      |0        |0        |0      |0    |0      |\n",
      "|10006 |Wild Seven                                        |Action,Crime,Drama                              |0              |1    |0      |0     |0       |1     |0      |0     |0          |0      |0       |0     |0  |1    |0      |0        |0        |0      |0    |0      |\n",
      "|100089|Nazis at the Center of the Earth                  |Adventure,Horror,Action,Thriller,Science Fiction|1              |0    |0      |1     |1       |1     |0      |0     |0          |0      |0       |0     |0  |0    |0      |1        |0        |0      |0    |0      |\n",
      "|10009 |Brother Bear                                      |Adventure,Animation,Family                      |0              |0    |0      |0     |0       |0     |0      |1     |0          |0      |0       |0     |0  |0    |0      |1        |1        |0      |0    |0      |\n",
      "|10011 |Abominable                                        |Horror,Thriller                                 |0              |0    |0      |1     |1       |0     |0      |0     |0          |0      |0       |0     |0  |0    |0      |0        |0        |0      |0    |0      |\n",
      "|10012 |Cursed                                            |Horror,Comedy                                   |0              |0    |0      |1     |0       |0     |0      |0     |0          |0      |0       |1     |0  |0    |0      |0        |0        |0      |0    |0      |\n",
      "|10013 |Peggy Sue Got Married                             |Comedy,Drama,Fantasy,Romance                    |0              |1    |1      |0     |0       |0     |1      |0     |0          |0      |0       |1     |0  |0    |0      |0        |0        |0      |0    |0      |\n",
      "|10014 |A Nightmare on Elm Street Part 2: Freddy's Revenge|Horror                                          |0              |0    |0      |1     |0       |0     |0      |0     |0          |0      |0       |0     |0  |0    |0      |0        |0        |0      |0    |0      |\n",
      "|10015 |Heartbreak Ridge                                  |Action,Comedy,Drama,War                         |0              |1    |0      |0     |0       |1     |0      |0     |0          |0      |0       |1     |1  |0    |0      |0        |0        |0      |0    |0      |\n",
      "|100152|Mars                                              |Comedy                                          |0              |0    |0      |0     |0       |0     |0      |0     |0          |0      |0       |1     |0  |0    |0      |0        |0        |0      |0    |0      |\n",
      "|10016 |Ghosts of Mars                                    |Action,Horror,Science Fiction                   |1              |0    |0      |1     |0       |1     |0      |0     |0          |0      |0       |0     |0  |0    |0      |0        |0        |0      |0    |0      |\n",
      "|10017 |The Wraith                                        |Romance,Science Fiction,Horror,Action,Crime     |1              |0    |1      |1     |0       |1     |0      |0     |0          |0      |0       |0     |0  |1    |0      |0        |0        |0      |0    |0      |\n",
      "|100179|Released                                          |Documentary                                     |0              |0    |0      |0     |0       |0     |0      |0     |1          |0      |0       |0     |0  |0    |0      |0        |0        |0      |0    |0      |\n",
      "|100183|Outpost: Black Sun                                |Action,Horror                                   |0              |0    |0      |1     |0       |1     |0      |0     |0          |0      |0       |0     |0  |0    |0      |0        |0        |0      |0    |0      |\n",
      "|100196|Julian Po                                         |Comedy,Drama,Romance                            |0              |1    |1      |0     |0       |0     |0      |0     |0          |0      |0       |1     |0  |0    |0      |0        |0        |0      |0    |0      |\n",
      "+------+--------------------------------------------------+------------------------------------------------+---------------+-----+-------+------+--------+------+-------+------+-----------+-------+--------+------+---+-----+-------+---------+---------+-------+-----+-------+\n",
      "only showing top 20 rows\n",
      "\n"
     ]
    }
   ],
   "source": [
    "# Split the genres column into multiple columns\n",
    "genres = movies_df.select(\"genres\").rdd.flatMap(lambda x: x[0].split(',')).distinct().collect()\n",
    "for genre in genres:\n",
    "    movies_df = movies_df.withColumn(genre, col(\"genres\").contains(genre).cast(\"int\"))\n",
    "movies_df.show(truncate=False)\n",
    "\n"
   ]
  },
  {
   "cell_type": "code",
   "execution_count": 134,
   "metadata": {},
   "outputs": [
    {
     "name": "stdout",
     "output_type": "stream",
     "text": [
      "+------+--------------------+--------------------+---------------+-----+-------+------+--------+------+-------+------+-----------+-------+--------+------+---+-----+-------+---------+---------+-------+-----+-------+--------------------+\n",
      "|    id|               title|              genres|Science Fiction|Drama|Romance|Horror|Thriller|Action|Fantasy|Family|Documentary|Western|TV Movie|Comedy|War|Crime|Mystery|Adventure|Animation|History|Music|Foreign|            features|\n",
      "+------+--------------------+--------------------+---------------+-----+-------+------+--------+------+-------+------+-----------+-------+--------+------+---+-----+-------+---------+---------+-------+-----+-------+--------------------+\n",
      "| 10001|      Young Einstein|Comedy,Science Fi...|              1|    0|      0|     0|       0|     0|      0|     0|          0|      0|       0|     1|  0|    0|      0|        0|        0|      0|    0|      0|(20,[0,11],[1.0,1...|\n",
      "|100010|      Flight Command|           Drama,War|              0|    1|      0|     0|       0|     0|      0|     0|          0|      0|       0|     0|  1|    0|      0|        0|        0|      0|    0|      0|(20,[1,12],[1.0,1...|\n",
      "| 10002|           Mona Lisa| Drama,Crime,Romance|              0|    1|      1|     0|       0|     0|      0|     0|          0|      0|       0|     0|  0|    1|      0|        0|        0|      0|    0|      0|(20,[1,2,13],[1.0...|\n",
      "|100024|           Bloodwork|     Horror,Thriller|              0|    0|      0|     1|       1|     0|      0|     0|          0|      0|       0|     0|  0|    0|      0|        0|        0|      0|    0|      0|(20,[3,4],[1.0,1.0])|\n",
      "|100032|            Released|        Drama,Action|              0|    1|      0|     0|       0|     1|      0|     0|          0|      0|       0|     0|  0|    0|      0|        0|        0|      0|    0|      0|(20,[1,5],[1.0,1.0])|\n",
      "| 10004|         Desperation|Drama,Fantasy,Hor...|              0|    1|      0|     1|       1|     0|      1|     0|          0|      0|       0|     0|  0|    0|      1|        0|        0|      0|    0|      0|(20,[1,3,4,6,14],...|\n",
      "| 10006|          Wild Seven|  Action,Crime,Drama|              0|    1|      0|     0|       0|     1|      0|     0|          0|      0|       0|     0|  0|    1|      0|        0|        0|      0|    0|      0|(20,[1,5,13],[1.0...|\n",
      "|100089|Nazis at the Cent...|Adventure,Horror,...|              1|    0|      0|     1|       1|     1|      0|     0|          0|      0|       0|     0|  0|    0|      0|        1|        0|      0|    0|      0|(20,[0,3,4,5,15],...|\n",
      "| 10009|        Brother Bear|Adventure,Animati...|              0|    0|      0|     0|       0|     0|      0|     1|          0|      0|       0|     0|  0|    0|      0|        1|        1|      0|    0|      0|(20,[7,15,16],[1....|\n",
      "| 10011|          Abominable|     Horror,Thriller|              0|    0|      0|     1|       1|     0|      0|     0|          0|      0|       0|     0|  0|    0|      0|        0|        0|      0|    0|      0|(20,[3,4],[1.0,1.0])|\n",
      "| 10012|              Cursed|       Horror,Comedy|              0|    0|      0|     1|       0|     0|      0|     0|          0|      0|       0|     1|  0|    0|      0|        0|        0|      0|    0|      0|(20,[3,11],[1.0,1...|\n",
      "| 10013|Peggy Sue Got Mar...|Comedy,Drama,Fant...|              0|    1|      1|     0|       0|     0|      1|     0|          0|      0|       0|     1|  0|    0|      0|        0|        0|      0|    0|      0|(20,[1,2,6,11],[1...|\n",
      "| 10014|A Nightmare on El...|              Horror|              0|    0|      0|     1|       0|     0|      0|     0|          0|      0|       0|     0|  0|    0|      0|        0|        0|      0|    0|      0|      (20,[3],[1.0])|\n",
      "| 10015|    Heartbreak Ridge|Action,Comedy,Dra...|              0|    1|      0|     0|       0|     1|      0|     0|          0|      0|       0|     1|  1|    0|      0|        0|        0|      0|    0|      0|(20,[1,5,11,12],[...|\n",
      "|100152|                Mars|              Comedy|              0|    0|      0|     0|       0|     0|      0|     0|          0|      0|       0|     1|  0|    0|      0|        0|        0|      0|    0|      0|     (20,[11],[1.0])|\n",
      "| 10016|      Ghosts of Mars|Action,Horror,Sci...|              1|    0|      0|     1|       0|     1|      0|     0|          0|      0|       0|     0|  0|    0|      0|        0|        0|      0|    0|      0|(20,[0,3,5],[1.0,...|\n",
      "| 10017|          The Wraith|Romance,Science F...|              1|    0|      1|     1|       0|     1|      0|     0|          0|      0|       0|     0|  0|    1|      0|        0|        0|      0|    0|      0|(20,[0,2,3,5,13],...|\n",
      "|100179|            Released|         Documentary|              0|    0|      0|     0|       0|     0|      0|     0|          1|      0|       0|     0|  0|    0|      0|        0|        0|      0|    0|      0|      (20,[8],[1.0])|\n",
      "|100183|  Outpost: Black Sun|       Action,Horror|              0|    0|      0|     1|       0|     1|      0|     0|          0|      0|       0|     0|  0|    0|      0|        0|        0|      0|    0|      0|(20,[3,5],[1.0,1.0])|\n",
      "|100196|           Julian Po|Comedy,Drama,Romance|              0|    1|      1|     0|       0|     0|      0|     0|          0|      0|       0|     1|  0|    0|      0|        0|        0|      0|    0|      0|(20,[1,2,11],[1.0...|\n",
      "+------+--------------------+--------------------+---------------+-----+-------+------+--------+------+-------+------+-----------+-------+--------+------+---+-----+-------+---------+---------+-------+-----+-------+--------------------+\n",
      "only showing top 20 rows\n",
      "\n"
     ]
    }
   ],
   "source": [
    "# Create a feature vector for each movie\n",
    "assembler = VectorAssembler(inputCols=genres, outputCol=\"features\")\n",
    "movies_df = assembler.transform(movies_df)\n",
    "movies_df.show()"
   ]
  },
  {
   "cell_type": "code",
   "execution_count": 135,
   "metadata": {},
   "outputs": [],
   "source": [
    "from pyspark.ml.clustering import KMeans\n",
    "\n",
    "# Train and fit to kmeans model (can change k and seed later)\n",
    "kmeans = KMeans(k=20)\n",
    "model = kmeans.fit(movies_df.select(\"features\"))"
   ]
  },
  {
   "cell_type": "code",
   "execution_count": 137,
   "metadata": {},
   "outputs": [
    {
     "ename": "IllegalArgumentException",
     "evalue": "Output column features already exists.",
     "output_type": "error",
     "traceback": [
      "\u001b[1;31m---------------------------------------------------------------------------\u001b[0m",
      "\u001b[1;31mIllegalArgumentException\u001b[0m                  Traceback (most recent call last)",
      "Cell \u001b[1;32mIn[137], line 29\u001b[0m\n\u001b[0;32m     27\u001b[0m moviesInput \u001b[39m=\u001b[39m [\u001b[39m\"\u001b[39m\u001b[39mThe Dark Knight\u001b[39m\u001b[39m\"\u001b[39m, \u001b[39m\"\u001b[39m\u001b[39mInception\u001b[39m\u001b[39m\"\u001b[39m, \u001b[39m\"\u001b[39m\u001b[39mInterstellar\u001b[39m\u001b[39m\"\u001b[39m]\n\u001b[0;32m     28\u001b[0m ratings \u001b[39m=\u001b[39m [\u001b[39m5.0\u001b[39m, \u001b[39m4.0\u001b[39m, \u001b[39m3.5\u001b[39m]\n\u001b[1;32m---> 29\u001b[0m recommended \u001b[39m=\u001b[39m recommend_movies(moviesInput, ratings)\n\u001b[0;32m     30\u001b[0m \u001b[39mprint\u001b[39m(recommended)\n",
      "Cell \u001b[1;32mIn[137], line 7\u001b[0m, in \u001b[0;36mrecommend_movies\u001b[1;34m(moviesInput, ratings)\u001b[0m\n\u001b[0;32m      5\u001b[0m \u001b[39m# Join with the movies dataframe to get the feature vectors for the input movies\u001b[39;00m\n\u001b[0;32m      6\u001b[0m input_movies \u001b[39m=\u001b[39m movies\u001b[39m.\u001b[39mjoin(input_df, \u001b[39m\"\u001b[39m\u001b[39mtitle\u001b[39m\u001b[39m\"\u001b[39m, \u001b[39m\"\u001b[39m\u001b[39mright\u001b[39m\u001b[39m\"\u001b[39m)\n\u001b[1;32m----> 7\u001b[0m input_movies \u001b[39m=\u001b[39m assembler\u001b[39m.\u001b[39;49mtransform(input_movies)\n\u001b[0;32m      9\u001b[0m \u001b[39m# Use the kmeans model to predict clusters for the input movies\u001b[39;00m\n\u001b[0;32m     10\u001b[0m predictions \u001b[39m=\u001b[39m model\u001b[39m.\u001b[39mtransform(input_movies)\n",
      "File \u001b[1;32mc:\\Users\\Trang Kelvin\\AppData\\Local\\Programs\\Python\\Python310\\lib\\site-packages\\pyspark\\ml\\base.py:262\u001b[0m, in \u001b[0;36mTransformer.transform\u001b[1;34m(self, dataset, params)\u001b[0m\n\u001b[0;32m    260\u001b[0m         \u001b[39mreturn\u001b[39;00m \u001b[39mself\u001b[39m\u001b[39m.\u001b[39mcopy(params)\u001b[39m.\u001b[39m_transform(dataset)\n\u001b[0;32m    261\u001b[0m     \u001b[39melse\u001b[39;00m:\n\u001b[1;32m--> 262\u001b[0m         \u001b[39mreturn\u001b[39;00m \u001b[39mself\u001b[39;49m\u001b[39m.\u001b[39;49m_transform(dataset)\n\u001b[0;32m    263\u001b[0m \u001b[39melse\u001b[39;00m:\n\u001b[0;32m    264\u001b[0m     \u001b[39mraise\u001b[39;00m \u001b[39mTypeError\u001b[39;00m(\u001b[39m\"\u001b[39m\u001b[39mParams must be a param map but got \u001b[39m\u001b[39m%s\u001b[39;00m\u001b[39m.\u001b[39m\u001b[39m\"\u001b[39m \u001b[39m%\u001b[39m \u001b[39mtype\u001b[39m(params))\n",
      "File \u001b[1;32mc:\\Users\\Trang Kelvin\\AppData\\Local\\Programs\\Python\\Python310\\lib\\site-packages\\pyspark\\ml\\wrapper.py:400\u001b[0m, in \u001b[0;36mJavaTransformer._transform\u001b[1;34m(self, dataset)\u001b[0m\n\u001b[0;32m    397\u001b[0m \u001b[39massert\u001b[39;00m \u001b[39mself\u001b[39m\u001b[39m.\u001b[39m_java_obj \u001b[39mis\u001b[39;00m \u001b[39mnot\u001b[39;00m \u001b[39mNone\u001b[39;00m\n\u001b[0;32m    399\u001b[0m \u001b[39mself\u001b[39m\u001b[39m.\u001b[39m_transfer_params_to_java()\n\u001b[1;32m--> 400\u001b[0m \u001b[39mreturn\u001b[39;00m DataFrame(\u001b[39mself\u001b[39;49m\u001b[39m.\u001b[39;49m_java_obj\u001b[39m.\u001b[39;49mtransform(dataset\u001b[39m.\u001b[39;49m_jdf), dataset\u001b[39m.\u001b[39msparkSession)\n",
      "File \u001b[1;32mc:\\Users\\Trang Kelvin\\AppData\\Local\\Programs\\Python\\Python310\\lib\\site-packages\\py4j\\java_gateway.py:1321\u001b[0m, in \u001b[0;36mJavaMember.__call__\u001b[1;34m(self, *args)\u001b[0m\n\u001b[0;32m   1315\u001b[0m command \u001b[39m=\u001b[39m proto\u001b[39m.\u001b[39mCALL_COMMAND_NAME \u001b[39m+\u001b[39m\\\n\u001b[0;32m   1316\u001b[0m     \u001b[39mself\u001b[39m\u001b[39m.\u001b[39mcommand_header \u001b[39m+\u001b[39m\\\n\u001b[0;32m   1317\u001b[0m     args_command \u001b[39m+\u001b[39m\\\n\u001b[0;32m   1318\u001b[0m     proto\u001b[39m.\u001b[39mEND_COMMAND_PART\n\u001b[0;32m   1320\u001b[0m answer \u001b[39m=\u001b[39m \u001b[39mself\u001b[39m\u001b[39m.\u001b[39mgateway_client\u001b[39m.\u001b[39msend_command(command)\n\u001b[1;32m-> 1321\u001b[0m return_value \u001b[39m=\u001b[39m get_return_value(\n\u001b[0;32m   1322\u001b[0m     answer, \u001b[39mself\u001b[39;49m\u001b[39m.\u001b[39;49mgateway_client, \u001b[39mself\u001b[39;49m\u001b[39m.\u001b[39;49mtarget_id, \u001b[39mself\u001b[39;49m\u001b[39m.\u001b[39;49mname)\n\u001b[0;32m   1324\u001b[0m \u001b[39mfor\u001b[39;00m temp_arg \u001b[39min\u001b[39;00m temp_args:\n\u001b[0;32m   1325\u001b[0m     temp_arg\u001b[39m.\u001b[39m_detach()\n",
      "File \u001b[1;32mc:\\Users\\Trang Kelvin\\AppData\\Local\\Programs\\Python\\Python310\\lib\\site-packages\\pyspark\\sql\\utils.py:196\u001b[0m, in \u001b[0;36mcapture_sql_exception.<locals>.deco\u001b[1;34m(*a, **kw)\u001b[0m\n\u001b[0;32m    192\u001b[0m converted \u001b[39m=\u001b[39m convert_exception(e\u001b[39m.\u001b[39mjava_exception)\n\u001b[0;32m    193\u001b[0m \u001b[39mif\u001b[39;00m \u001b[39mnot\u001b[39;00m \u001b[39misinstance\u001b[39m(converted, UnknownException):\n\u001b[0;32m    194\u001b[0m     \u001b[39m# Hide where the exception came from that shows a non-Pythonic\u001b[39;00m\n\u001b[0;32m    195\u001b[0m     \u001b[39m# JVM exception message.\u001b[39;00m\n\u001b[1;32m--> 196\u001b[0m     \u001b[39mraise\u001b[39;00m converted \u001b[39mfrom\u001b[39;00m \u001b[39mNone\u001b[39m\n\u001b[0;32m    197\u001b[0m \u001b[39melse\u001b[39;00m:\n\u001b[0;32m    198\u001b[0m     \u001b[39mraise\u001b[39;00m\n",
      "\u001b[1;31mIllegalArgumentException\u001b[0m: Output column features already exists."
     ]
    }
   ],
   "source": [
    "def recommend_movies(moviesInput, ratings):\n",
    "    # Create a dataframe from the input movies and ratings\n",
    "    input_df = spark.createDataFrame(list(zip(moviesInput, ratings)), schema=[\"title\", \"rating\"])\n",
    "\n",
    "    # Join with the movies dataframe to get the feature vectors for the input movies\n",
    "    input_movies = movies.join(input_df, \"title\", \"right\")\n",
    "    input_movies = assembler.transform(input_movies)\n",
    "\n",
    "    # Use the kmeans model to predict clusters for the input movies\n",
    "    predictions = model.transform(input_movies)\n",
    "\n",
    "    # Get the cluster label with the most input movies\n",
    "    most_common_cluster = predictions.groupBy(\"prediction\").count().orderBy(col(\"count\").desc()).first()[\"prediction\"]\n",
    "\n",
    "    # Get the movies in the most common cluster\n",
    "    cluster_movies = predictions.filter(col(\"prediction\") == most_common_cluster).drop(\"features\")\n",
    "\n",
    "    # Remove the input movies from the cluster\n",
    "    cluster_movies = cluster_movies.join(input_df, \"title\", \"left_anti\")\n",
    "\n",
    "    # Select the top 10 recommended movies based on the highest predicted ratings\n",
    "    recommended_movies = cluster_movies.orderBy(col(\"prediction\"), col(\"prediction\")).limit(10)\n",
    "\n",
    "    # Return a list of recommended movie titles\n",
    "    return recommended_movies.select(\"title\").rdd.flatMap(lambda x: x).collect()\n",
    "\n",
    "moviesInput = [\"The Dark Knight\", \"Inception\", \"Interstellar\"]\n",
    "ratings = [5.0, 4.0, 3.5]\n",
    "recommended = recommend_movies(moviesInput, ratings)\n",
    "print(recommended)\n",
    ")"
   ]
  },
  {
   "cell_type": "code",
   "execution_count": null,
   "metadata": {},
   "outputs": [
    {
     "ename": "AnalysisException",
     "evalue": "Column 'genre_name' does not exist. Did you mean one of the following? [genres, Crime, Drama, Western, Adventure, Fantasy, Foreign, Romance, Action, Animation, Comedy, Documentary, Horror, Mystery, TV Movie, Thriller, War, features, rating, title, Family, History, Music, id, Science Fiction];\n'Aggregate ['genre_name], ['genre_name, avg(rating#7743L) AS avg(rating)#7796]\n+- Project [id#7163, title#7178, genres#7235, Science Fiction#7295, Drama#7300, Romance#7306, Horror#7313, Thriller#7321, Action#7330, Fantasy#7340, Family#7351, Documentary#7363, Western#7376, TV Movie#7390, Comedy#7405, War#7421, Crime#7438, Mystery#7456, Adventure#7475, Animation#7495, History#7516, Music#7538, Foreign#7561, features#7717, rating#7743L]\n   +- Join Inner, (id#7163 = id#7742)\n      :- Project [id#7163, title#7178, genres#7235, Science Fiction#7295, Drama#7300, Romance#7306, Horror#7313, Thriller#7321, Action#7330, Fantasy#7340, Family#7351, Documentary#7363, Western#7376, TV Movie#7390, Comedy#7405, War#7421, Crime#7438, Mystery#7456, Adventure#7475, Animation#7495, History#7516, Music#7538, Foreign#7561, UDF(struct(Science Fiction_double_VectorAssembler_73e6c59d6b4a, cast(Science Fiction#7295 as double), Drama_double_VectorAssembler_73e6c59d6b4a, cast(Drama#7300 as double), Romance_double_VectorAssembler_73e6c59d6b4a, cast(Romance#7306 as double), Horror_double_VectorAssembler_73e6c59d6b4a, cast(Horror#7313 as double), Thriller_double_VectorAssembler_73e6c59d6b4a, cast(Thriller#7321 as double), Action_double_VectorAssembler_73e6c59d6b4a, cast(Action#7330 as double), Fantasy_double_VectorAssembler_73e6c59d6b4a, cast(Fantasy#7340 as double), Family_double_VectorAssembler_73e6c59d6b4a, cast(Family#7351 as double), Documentary_double_VectorAssembler_73e6c59d6b4a, cast(Documentary#7363 as double), Western_double_VectorAssembler_73e6c59d6b4a, cast(Western#7376 as double), TV Movie_double_VectorAssembler_73e6c59d6b4a, cast(TV Movie#7390 as double), Comedy_double_VectorAssembler_73e6c59d6b4a, cast(Comedy#7405 as double), ... 16 more fields)) AS features#7717]\n      :  +- Project [id#7163, title#7178, genres#7235, Science Fiction#7295, Drama#7300, Romance#7306, Horror#7313, Thriller#7321, Action#7330, Fantasy#7340, Family#7351, Documentary#7363, Western#7376, TV Movie#7390, Comedy#7405, War#7421, Crime#7438, Mystery#7456, Adventure#7475, Animation#7495, History#7516, Music#7538, cast(Contains(genres#7235, Foreign) as int) AS Foreign#7561]\n      :     +- Project [id#7163, title#7178, genres#7235, Science Fiction#7295, Drama#7300, Romance#7306, Horror#7313, Thriller#7321, Action#7330, Fantasy#7340, Family#7351, Documentary#7363, Western#7376, TV Movie#7390, Comedy#7405, War#7421, Crime#7438, Mystery#7456, Adventure#7475, Animation#7495, History#7516, cast(Contains(genres#7235, Music) as int) AS Music#7538]\n      :        +- Project [id#7163, title#7178, genres#7235, Science Fiction#7295, Drama#7300, Romance#7306, Horror#7313, Thriller#7321, Action#7330, Fantasy#7340, Family#7351, Documentary#7363, Western#7376, TV Movie#7390, Comedy#7405, War#7421, Crime#7438, Mystery#7456, Adventure#7475, Animation#7495, cast(Contains(genres#7235, History) as int) AS History#7516]\n      :           +- Project [id#7163, title#7178, genres#7235, Science Fiction#7295, Drama#7300, Romance#7306, Horror#7313, Thriller#7321, Action#7330, Fantasy#7340, Family#7351, Documentary#7363, Western#7376, TV Movie#7390, Comedy#7405, War#7421, Crime#7438, Mystery#7456, Adventure#7475, cast(Contains(genres#7235, Animation) as int) AS Animation#7495]\n      :              +- Project [id#7163, title#7178, genres#7235, Science Fiction#7295, Drama#7300, Romance#7306, Horror#7313, Thriller#7321, Action#7330, Fantasy#7340, Family#7351, Documentary#7363, Western#7376, TV Movie#7390, Comedy#7405, War#7421, Crime#7438, Mystery#7456, cast(Contains(genres#7235, Adventure) as int) AS Adventure#7475]\n      :                 +- Project [id#7163, title#7178, genres#7235, Science Fiction#7295, Drama#7300, Romance#7306, Horror#7313, Thriller#7321, Action#7330, Fantasy#7340, Family#7351, Documentary#7363, Western#7376, TV Movie#7390, Comedy#7405, War#7421, Crime#7438, cast(Contains(genres#7235, Mystery) as int) AS Mystery#7456]\n      :                    +- Project [id#7163, title#7178, genres#7235, Science Fiction#7295, Drama#7300, Romance#7306, Horror#7313, Thriller#7321, Action#7330, Fantasy#7340, Family#7351, Documentary#7363, Western#7376, TV Movie#7390, Comedy#7405, War#7421, cast(Contains(genres#7235, Crime) as int) AS Crime#7438]\n      :                       +- Project [id#7163, title#7178, genres#7235, Science Fiction#7295, Drama#7300, Romance#7306, Horror#7313, Thriller#7321, Action#7330, Fantasy#7340, Family#7351, Documentary#7363, Western#7376, TV Movie#7390, Comedy#7405, cast(Contains(genres#7235, War) as int) AS War#7421]\n      :                          +- Project [id#7163, title#7178, genres#7235, Science Fiction#7295, Drama#7300, Romance#7306, Horror#7313, Thriller#7321, Action#7330, Fantasy#7340, Family#7351, Documentary#7363, Western#7376, TV Movie#7390, cast(Contains(genres#7235, Comedy) as int) AS Comedy#7405]\n      :                             +- Project [id#7163, title#7178, genres#7235, Science Fiction#7295, Drama#7300, Romance#7306, Horror#7313, Thriller#7321, Action#7330, Fantasy#7340, Family#7351, Documentary#7363, Western#7376, cast(Contains(genres#7235, TV Movie) as int) AS TV Movie#7390]\n      :                                +- Project [id#7163, title#7178, genres#7235, Science Fiction#7295, Drama#7300, Romance#7306, Horror#7313, Thriller#7321, Action#7330, Fantasy#7340, Family#7351, Documentary#7363, cast(Contains(genres#7235, Western) as int) AS Western#7376]\n      :                                   +- Project [id#7163, title#7178, genres#7235, Science Fiction#7295, Drama#7300, Romance#7306, Horror#7313, Thriller#7321, Action#7330, Fantasy#7340, Family#7351, cast(Contains(genres#7235, Documentary) as int) AS Documentary#7363]\n      :                                      +- Project [id#7163, title#7178, genres#7235, Science Fiction#7295, Drama#7300, Romance#7306, Horror#7313, Thriller#7321, Action#7330, Fantasy#7340, cast(Contains(genres#7235, Family) as int) AS Family#7351]\n      :                                         +- Project [id#7163, title#7178, genres#7235, Science Fiction#7295, Drama#7300, Romance#7306, Horror#7313, Thriller#7321, Action#7330, cast(Contains(genres#7235, Fantasy) as int) AS Fantasy#7340]\n      :                                            +- Project [id#7163, title#7178, genres#7235, Science Fiction#7295, Drama#7300, Romance#7306, Horror#7313, Thriller#7321, cast(Contains(genres#7235, Action) as int) AS Action#7330]\n      :                                               +- Project [id#7163, title#7178, genres#7235, Science Fiction#7295, Drama#7300, Romance#7306, Horror#7313, cast(Contains(genres#7235, Thriller) as int) AS Thriller#7321]\n      :                                                  +- Project [id#7163, title#7178, genres#7235, Science Fiction#7295, Drama#7300, Romance#7306, cast(Contains(genres#7235, Horror) as int) AS Horror#7313]\n      :                                                     +- Project [id#7163, title#7178, genres#7235, Science Fiction#7295, Drama#7300, cast(Contains(genres#7235, Romance) as int) AS Romance#7306]\n      :                                                        +- Project [id#7163, title#7178, genres#7235, Science Fiction#7295, cast(Contains(genres#7235, Drama) as int) AS Drama#7300]\n      :                                                           +- Project [id#7163, title#7178, genres#7235, cast(Contains(genres#7235, Science Fiction) as int) AS Science Fiction#7295]\n      :                                                              +- Project [id#7163, title#7178, concat_ws(,, genres#7231) AS genres#7235]\n      :                                                                 +- Aggregate [id#7163, title#7178], [id#7163, title#7178, collect_list(genre_name#7219, 0, 0) AS genres#7231]\n      :                                                                    +- Filter atleastnnonnulls(3, id#7163, title#7178, genre_name#7219)\n      :                                                                       +- Project [id#7163, title#7178, genre#7215.name AS genre_name#7219]\n      :                                                                          +- Project [id#7163, title#7178, genre#7215]\n      :                                                                             +- Generate explode(genres#7210), false, [genre#7215]\n      :                                                                                +- Project [id#7163, title#7178, from_json(ArrayType(StructType(StructField(id,IntegerType,true),StructField(name,StringType,true)),true), genres#7161, Some(America/New_York)) AS genres#7210]\n      :                                                                                   +- Deduplicate [id#7163, title#7178, genres#7161]\n      :                                                                                      +- Project [id#7163, title#7178, genres#7161]\n      :                                                                                         +- Relation [adult#7158,belongs_to_collection#7159,budget#7160,genres#7161,homepage#7162,id#7163,imdb_id#7164,original_language#7165,original_title#7166,overview#7167,popularity#7168,poster_path#7169,production_companies#7170,production_countries#7171,release_date#7172,revenue#7173,runtime#7174,spoken_languages#7175,status#7176,tagline#7177,title#7178,video#7179,vote_average#7180,vote_count#7181] csv\n      +- LogicalRDD [id#7742, rating#7743L], false\n",
     "output_type": "error",
     "traceback": [
      "\u001b[1;31m---------------------------------------------------------------------------\u001b[0m",
      "\u001b[1;31mAnalysisException\u001b[0m                         Traceback (most recent call last)",
      "Cell \u001b[1;32mIn[55], line 14\u001b[0m\n\u001b[0;32m     10\u001b[0m joined \u001b[39m=\u001b[39m movies\u001b[39m.\u001b[39mjoin(user_ratings, on\u001b[39m=\u001b[39m[\u001b[39m\"\u001b[39m\u001b[39mid\u001b[39m\u001b[39m\"\u001b[39m], how\u001b[39m=\u001b[39m\u001b[39m\"\u001b[39m\u001b[39minner\u001b[39m\u001b[39m\"\u001b[39m)\n\u001b[0;32m     12\u001b[0m \u001b[39m# Group by genre_name and compute the average rating\u001b[39;00m\n\u001b[0;32m     13\u001b[0m genre_ratings \u001b[39m=\u001b[39m joined\u001b[39m.\u001b[39;49mgroupBy(\u001b[39m\"\u001b[39;49m\u001b[39mgenre_name\u001b[39;49m\u001b[39m\"\u001b[39;49m) \\\n\u001b[1;32m---> 14\u001b[0m                       \u001b[39m.\u001b[39;49magg({\u001b[39m\"\u001b[39;49m\u001b[39mrating\u001b[39;49m\u001b[39m\"\u001b[39;49m: \u001b[39m\"\u001b[39;49m\u001b[39mavg\u001b[39;49m\u001b[39m\"\u001b[39;49m}) \\\n\u001b[0;32m     15\u001b[0m                       \u001b[39m.\u001b[39mwithColumnRenamed(\u001b[39m\"\u001b[39m\u001b[39mavg(rating)\u001b[39m\u001b[39m\"\u001b[39m, \u001b[39m\"\u001b[39m\u001b[39mgenre_rating\u001b[39m\u001b[39m\"\u001b[39m)\n\u001b[0;32m     16\u001b[0m \u001b[39m# joined.show()\u001b[39;00m\n\u001b[0;32m     17\u001b[0m genre_ratings\u001b[39m.\u001b[39mshow()\n",
      "File \u001b[1;32mc:\\Users\\Trang Kelvin\\AppData\\Local\\Programs\\Python\\Python310\\lib\\site-packages\\pyspark\\sql\\group.py:132\u001b[0m, in \u001b[0;36mGroupedData.agg\u001b[1;34m(self, *exprs)\u001b[0m\n\u001b[0;32m    130\u001b[0m \u001b[39massert\u001b[39;00m exprs, \u001b[39m\"\u001b[39m\u001b[39mexprs should not be empty\u001b[39m\u001b[39m\"\u001b[39m\n\u001b[0;32m    131\u001b[0m \u001b[39mif\u001b[39;00m \u001b[39mlen\u001b[39m(exprs) \u001b[39m==\u001b[39m \u001b[39m1\u001b[39m \u001b[39mand\u001b[39;00m \u001b[39misinstance\u001b[39m(exprs[\u001b[39m0\u001b[39m], \u001b[39mdict\u001b[39m):\n\u001b[1;32m--> 132\u001b[0m     jdf \u001b[39m=\u001b[39m \u001b[39mself\u001b[39;49m\u001b[39m.\u001b[39;49m_jgd\u001b[39m.\u001b[39;49magg(exprs[\u001b[39m0\u001b[39;49m])\n\u001b[0;32m    133\u001b[0m \u001b[39melse\u001b[39;00m:\n\u001b[0;32m    134\u001b[0m     \u001b[39m# Columns\u001b[39;00m\n\u001b[0;32m    135\u001b[0m     \u001b[39massert\u001b[39;00m \u001b[39mall\u001b[39m(\u001b[39misinstance\u001b[39m(c, Column) \u001b[39mfor\u001b[39;00m c \u001b[39min\u001b[39;00m exprs), \u001b[39m\"\u001b[39m\u001b[39mall exprs should be Column\u001b[39m\u001b[39m\"\u001b[39m\n",
      "File \u001b[1;32mc:\\Users\\Trang Kelvin\\AppData\\Local\\Programs\\Python\\Python310\\lib\\site-packages\\py4j\\java_gateway.py:1321\u001b[0m, in \u001b[0;36mJavaMember.__call__\u001b[1;34m(self, *args)\u001b[0m\n\u001b[0;32m   1315\u001b[0m command \u001b[39m=\u001b[39m proto\u001b[39m.\u001b[39mCALL_COMMAND_NAME \u001b[39m+\u001b[39m\\\n\u001b[0;32m   1316\u001b[0m     \u001b[39mself\u001b[39m\u001b[39m.\u001b[39mcommand_header \u001b[39m+\u001b[39m\\\n\u001b[0;32m   1317\u001b[0m     args_command \u001b[39m+\u001b[39m\\\n\u001b[0;32m   1318\u001b[0m     proto\u001b[39m.\u001b[39mEND_COMMAND_PART\n\u001b[0;32m   1320\u001b[0m answer \u001b[39m=\u001b[39m \u001b[39mself\u001b[39m\u001b[39m.\u001b[39mgateway_client\u001b[39m.\u001b[39msend_command(command)\n\u001b[1;32m-> 1321\u001b[0m return_value \u001b[39m=\u001b[39m get_return_value(\n\u001b[0;32m   1322\u001b[0m     answer, \u001b[39mself\u001b[39;49m\u001b[39m.\u001b[39;49mgateway_client, \u001b[39mself\u001b[39;49m\u001b[39m.\u001b[39;49mtarget_id, \u001b[39mself\u001b[39;49m\u001b[39m.\u001b[39;49mname)\n\u001b[0;32m   1324\u001b[0m \u001b[39mfor\u001b[39;00m temp_arg \u001b[39min\u001b[39;00m temp_args:\n\u001b[0;32m   1325\u001b[0m     temp_arg\u001b[39m.\u001b[39m_detach()\n",
      "File \u001b[1;32mc:\\Users\\Trang Kelvin\\AppData\\Local\\Programs\\Python\\Python310\\lib\\site-packages\\pyspark\\sql\\utils.py:196\u001b[0m, in \u001b[0;36mcapture_sql_exception.<locals>.deco\u001b[1;34m(*a, **kw)\u001b[0m\n\u001b[0;32m    192\u001b[0m converted \u001b[39m=\u001b[39m convert_exception(e\u001b[39m.\u001b[39mjava_exception)\n\u001b[0;32m    193\u001b[0m \u001b[39mif\u001b[39;00m \u001b[39mnot\u001b[39;00m \u001b[39misinstance\u001b[39m(converted, UnknownException):\n\u001b[0;32m    194\u001b[0m     \u001b[39m# Hide where the exception came from that shows a non-Pythonic\u001b[39;00m\n\u001b[0;32m    195\u001b[0m     \u001b[39m# JVM exception message.\u001b[39;00m\n\u001b[1;32m--> 196\u001b[0m     \u001b[39mraise\u001b[39;00m converted \u001b[39mfrom\u001b[39;00m \u001b[39mNone\u001b[39m\n\u001b[0;32m    197\u001b[0m \u001b[39melse\u001b[39;00m:\n\u001b[0;32m    198\u001b[0m     \u001b[39mraise\u001b[39;00m\n",
      "\u001b[1;31mAnalysisException\u001b[0m: Column 'genre_name' does not exist. Did you mean one of the following? [genres, Crime, Drama, Western, Adventure, Fantasy, Foreign, Romance, Action, Animation, Comedy, Documentary, Horror, Mystery, TV Movie, Thriller, War, features, rating, title, Family, History, Music, id, Science Fiction];\n'Aggregate ['genre_name], ['genre_name, avg(rating#7743L) AS avg(rating)#7796]\n+- Project [id#7163, title#7178, genres#7235, Science Fiction#7295, Drama#7300, Romance#7306, Horror#7313, Thriller#7321, Action#7330, Fantasy#7340, Family#7351, Documentary#7363, Western#7376, TV Movie#7390, Comedy#7405, War#7421, Crime#7438, Mystery#7456, Adventure#7475, Animation#7495, History#7516, Music#7538, Foreign#7561, features#7717, rating#7743L]\n   +- Join Inner, (id#7163 = id#7742)\n      :- Project [id#7163, title#7178, genres#7235, Science Fiction#7295, Drama#7300, Romance#7306, Horror#7313, Thriller#7321, Action#7330, Fantasy#7340, Family#7351, Documentary#7363, Western#7376, TV Movie#7390, Comedy#7405, War#7421, Crime#7438, Mystery#7456, Adventure#7475, Animation#7495, History#7516, Music#7538, Foreign#7561, UDF(struct(Science Fiction_double_VectorAssembler_73e6c59d6b4a, cast(Science Fiction#7295 as double), Drama_double_VectorAssembler_73e6c59d6b4a, cast(Drama#7300 as double), Romance_double_VectorAssembler_73e6c59d6b4a, cast(Romance#7306 as double), Horror_double_VectorAssembler_73e6c59d6b4a, cast(Horror#7313 as double), Thriller_double_VectorAssembler_73e6c59d6b4a, cast(Thriller#7321 as double), Action_double_VectorAssembler_73e6c59d6b4a, cast(Action#7330 as double), Fantasy_double_VectorAssembler_73e6c59d6b4a, cast(Fantasy#7340 as double), Family_double_VectorAssembler_73e6c59d6b4a, cast(Family#7351 as double), Documentary_double_VectorAssembler_73e6c59d6b4a, cast(Documentary#7363 as double), Western_double_VectorAssembler_73e6c59d6b4a, cast(Western#7376 as double), TV Movie_double_VectorAssembler_73e6c59d6b4a, cast(TV Movie#7390 as double), Comedy_double_VectorAssembler_73e6c59d6b4a, cast(Comedy#7405 as double), ... 16 more fields)) AS features#7717]\n      :  +- Project [id#7163, title#7178, genres#7235, Science Fiction#7295, Drama#7300, Romance#7306, Horror#7313, Thriller#7321, Action#7330, Fantasy#7340, Family#7351, Documentary#7363, Western#7376, TV Movie#7390, Comedy#7405, War#7421, Crime#7438, Mystery#7456, Adventure#7475, Animation#7495, History#7516, Music#7538, cast(Contains(genres#7235, Foreign) as int) AS Foreign#7561]\n      :     +- Project [id#7163, title#7178, genres#7235, Science Fiction#7295, Drama#7300, Romance#7306, Horror#7313, Thriller#7321, Action#7330, Fantasy#7340, Family#7351, Documentary#7363, Western#7376, TV Movie#7390, Comedy#7405, War#7421, Crime#7438, Mystery#7456, Adventure#7475, Animation#7495, History#7516, cast(Contains(genres#7235, Music) as int) AS Music#7538]\n      :        +- Project [id#7163, title#7178, genres#7235, Science Fiction#7295, Drama#7300, Romance#7306, Horror#7313, Thriller#7321, Action#7330, Fantasy#7340, Family#7351, Documentary#7363, Western#7376, TV Movie#7390, Comedy#7405, War#7421, Crime#7438, Mystery#7456, Adventure#7475, Animation#7495, cast(Contains(genres#7235, History) as int) AS History#7516]\n      :           +- Project [id#7163, title#7178, genres#7235, Science Fiction#7295, Drama#7300, Romance#7306, Horror#7313, Thriller#7321, Action#7330, Fantasy#7340, Family#7351, Documentary#7363, Western#7376, TV Movie#7390, Comedy#7405, War#7421, Crime#7438, Mystery#7456, Adventure#7475, cast(Contains(genres#7235, Animation) as int) AS Animation#7495]\n      :              +- Project [id#7163, title#7178, genres#7235, Science Fiction#7295, Drama#7300, Romance#7306, Horror#7313, Thriller#7321, Action#7330, Fantasy#7340, Family#7351, Documentary#7363, Western#7376, TV Movie#7390, Comedy#7405, War#7421, Crime#7438, Mystery#7456, cast(Contains(genres#7235, Adventure) as int) AS Adventure#7475]\n      :                 +- Project [id#7163, title#7178, genres#7235, Science Fiction#7295, Drama#7300, Romance#7306, Horror#7313, Thriller#7321, Action#7330, Fantasy#7340, Family#7351, Documentary#7363, Western#7376, TV Movie#7390, Comedy#7405, War#7421, Crime#7438, cast(Contains(genres#7235, Mystery) as int) AS Mystery#7456]\n      :                    +- Project [id#7163, title#7178, genres#7235, Science Fiction#7295, Drama#7300, Romance#7306, Horror#7313, Thriller#7321, Action#7330, Fantasy#7340, Family#7351, Documentary#7363, Western#7376, TV Movie#7390, Comedy#7405, War#7421, cast(Contains(genres#7235, Crime) as int) AS Crime#7438]\n      :                       +- Project [id#7163, title#7178, genres#7235, Science Fiction#7295, Drama#7300, Romance#7306, Horror#7313, Thriller#7321, Action#7330, Fantasy#7340, Family#7351, Documentary#7363, Western#7376, TV Movie#7390, Comedy#7405, cast(Contains(genres#7235, War) as int) AS War#7421]\n      :                          +- Project [id#7163, title#7178, genres#7235, Science Fiction#7295, Drama#7300, Romance#7306, Horror#7313, Thriller#7321, Action#7330, Fantasy#7340, Family#7351, Documentary#7363, Western#7376, TV Movie#7390, cast(Contains(genres#7235, Comedy) as int) AS Comedy#7405]\n      :                             +- Project [id#7163, title#7178, genres#7235, Science Fiction#7295, Drama#7300, Romance#7306, Horror#7313, Thriller#7321, Action#7330, Fantasy#7340, Family#7351, Documentary#7363, Western#7376, cast(Contains(genres#7235, TV Movie) as int) AS TV Movie#7390]\n      :                                +- Project [id#7163, title#7178, genres#7235, Science Fiction#7295, Drama#7300, Romance#7306, Horror#7313, Thriller#7321, Action#7330, Fantasy#7340, Family#7351, Documentary#7363, cast(Contains(genres#7235, Western) as int) AS Western#7376]\n      :                                   +- Project [id#7163, title#7178, genres#7235, Science Fiction#7295, Drama#7300, Romance#7306, Horror#7313, Thriller#7321, Action#7330, Fantasy#7340, Family#7351, cast(Contains(genres#7235, Documentary) as int) AS Documentary#7363]\n      :                                      +- Project [id#7163, title#7178, genres#7235, Science Fiction#7295, Drama#7300, Romance#7306, Horror#7313, Thriller#7321, Action#7330, Fantasy#7340, cast(Contains(genres#7235, Family) as int) AS Family#7351]\n      :                                         +- Project [id#7163, title#7178, genres#7235, Science Fiction#7295, Drama#7300, Romance#7306, Horror#7313, Thriller#7321, Action#7330, cast(Contains(genres#7235, Fantasy) as int) AS Fantasy#7340]\n      :                                            +- Project [id#7163, title#7178, genres#7235, Science Fiction#7295, Drama#7300, Romance#7306, Horror#7313, Thriller#7321, cast(Contains(genres#7235, Action) as int) AS Action#7330]\n      :                                               +- Project [id#7163, title#7178, genres#7235, Science Fiction#7295, Drama#7300, Romance#7306, Horror#7313, cast(Contains(genres#7235, Thriller) as int) AS Thriller#7321]\n      :                                                  +- Project [id#7163, title#7178, genres#7235, Science Fiction#7295, Drama#7300, Romance#7306, cast(Contains(genres#7235, Horror) as int) AS Horror#7313]\n      :                                                     +- Project [id#7163, title#7178, genres#7235, Science Fiction#7295, Drama#7300, cast(Contains(genres#7235, Romance) as int) AS Romance#7306]\n      :                                                        +- Project [id#7163, title#7178, genres#7235, Science Fiction#7295, cast(Contains(genres#7235, Drama) as int) AS Drama#7300]\n      :                                                           +- Project [id#7163, title#7178, genres#7235, cast(Contains(genres#7235, Science Fiction) as int) AS Science Fiction#7295]\n      :                                                              +- Project [id#7163, title#7178, concat_ws(,, genres#7231) AS genres#7235]\n      :                                                                 +- Aggregate [id#7163, title#7178], [id#7163, title#7178, collect_list(genre_name#7219, 0, 0) AS genres#7231]\n      :                                                                    +- Filter atleastnnonnulls(3, id#7163, title#7178, genre_name#7219)\n      :                                                                       +- Project [id#7163, title#7178, genre#7215.name AS genre_name#7219]\n      :                                                                          +- Project [id#7163, title#7178, genre#7215]\n      :                                                                             +- Generate explode(genres#7210), false, [genre#7215]\n      :                                                                                +- Project [id#7163, title#7178, from_json(ArrayType(StructType(StructField(id,IntegerType,true),StructField(name,StringType,true)),true), genres#7161, Some(America/New_York)) AS genres#7210]\n      :                                                                                   +- Deduplicate [id#7163, title#7178, genres#7161]\n      :                                                                                      +- Project [id#7163, title#7178, genres#7161]\n      :                                                                                         +- Relation [adult#7158,belongs_to_collection#7159,budget#7160,genres#7161,homepage#7162,id#7163,imdb_id#7164,original_language#7165,original_title#7166,overview#7167,popularity#7168,poster_path#7169,production_companies#7170,production_countries#7171,release_date#7172,revenue#7173,runtime#7174,spoken_languages#7175,status#7176,tagline#7177,title#7178,video#7179,vote_average#7180,vote_count#7181] csv\n      +- LogicalRDD [id#7742, rating#7743L], false\n"
     ]
    }
   ],
   "source": [
    "# Read the user's list of rated movies\n",
    "user_ratings = spark.createDataFrame([\n",
    "    (\"17015\", 5),\n",
    "    (\"31174\", 2),\n",
    "    (\"137\", 7),\n",
    "    (\"129\", 10)\n",
    "], [\"id\", \"rating\"])\n",
    "\n",
    "# Join the user_ratings DataFrame with the movies DataFrame\n",
    "joined = movies.join(user_ratings, on=[\"id\"], how=\"inner\")\n",
    "\n",
    "# Group by genre_name and compute the average rating\n",
    "genre_ratings = joined.groupBy(\"genre_name\") \\\n",
    "                      .agg({\"rating\": \"avg\"}) \\\n",
    "                      .withColumnRenamed(\"avg(rating)\", \"genre_rating\")\n",
    "# joined.show()\n",
    "genre_ratings.show()\n"
   ]
  }
 ],
 "metadata": {
  "kernelspec": {
   "display_name": "venv",
   "language": "python",
   "name": "python3"
  },
  "language_info": {
   "codemirror_mode": {
    "name": "ipython",
    "version": 3
   },
   "file_extension": ".py",
   "mimetype": "text/x-python",
   "name": "python",
   "nbconvert_exporter": "python",
   "pygments_lexer": "ipython3",
   "version": "3.10.9"
  },
  "orig_nbformat": 4
 },
 "nbformat": 4,
 "nbformat_minor": 2
}
