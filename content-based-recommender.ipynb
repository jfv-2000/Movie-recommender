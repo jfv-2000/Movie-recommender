{
 "cells": [
  {
   "attachments": {},
   "cell_type": "markdown",
   "metadata": {},
   "source": [
    "<h1>Content-Based Recommendations Engine</h1>\n",
    "\n",
    "In this section, we set up the foundation for our content-based movie recommender using weighted matrix and kmeans clustering to evaluate the accuracy of the predicted movies. Our system takes in a list of movies and their respective ratings and then recommends movies that are similar in genres to the liked movies. . The higher the ratings of the movies, the more impact their genres will have on the recommended movies. \n",
    "\n",
    "<h2>Method used</h2>\n",
    "\n",
    "Many methods can be used to build a content-based recommender system. Usually, content-based recommender suggests movies of similar style to the inputted movies. What makes our recommender special is that it allows the user to input their ratings along with their movies, allowing for more flexibility and customization. For example, when using Netflix, their recommender has no way of recommending movies as they have no knowledge of the watch history of the specific user. In our case, the user can enter movies with their specific ratings, and their recommended movies will be specific to the genres and adjusted depending on the ratings. \n",
    "\n",
    "In order for the ratings to have an impact on the recommendation system, we decided to use a weighted matrix due. By using a weighted matrix, we can multiply the ratings of the users by the genres related to the inputted movies, allowing the matrix to represent a specific taste of the user. The total scores of each genres for each movies can then be summed together, and the highest score represents the best recommendations. By doing so, genres of high rated movies will have more impact than other less significant genres, allowing the ratings to impact the recommendations in a significant manner. "
   ]
  },
  {
   "attachments": {},
   "cell_type": "markdown",
   "metadata": {},
   "source": [
    "\n",
    "<h4>Step 1: Importing the necessary libraries</h4>\n",
    "\n",
    "Python version 3.10 is used to run the notebook.\n",
    "\n",
    "pip install fo pyspark and matplotlib is required for this to function."
   ]
  },
  {
   "cell_type": "code",
   "execution_count": 39,
   "metadata": {},
   "outputs": [],
   "source": [
    "import os\n",
    "from pyspark.sql import SparkSession\n",
    "from pyspark.sql.functions import col, explode, from_json, col, explode, collect_list,concat_ws\n",
    "from pyspark.sql.types import StructType, StructField, IntegerType, StringType, ArrayType\n",
    "from pyspark.ml.feature import VectorAssembler\n",
    "from pyspark.ml.clustering import KMeans\n",
    "from pyspark.sql.functions import sum as _sum\n",
    "import matplotlib.pyplot as plt"
   ]
  },
  {
   "attachments": {},
   "cell_type": "markdown",
   "metadata": {},
   "source": [
    "<h4>Step 2: Spark Configuration/Setup</h4>\n",
    "\n",
    "We will be using Spark to build our recommender system. Spark is a distributed computing framework that allows us to run our code on a cluster of machines. It's a great tool to use when we want to scale our code to a large dataset. We will be using the pyspark library to run our code on a local machine. We will be using the pyspark.sql library to create our dataframes, and the pyspark.ml library to build our recommender system.\n"
   ]
  },
  {
   "cell_type": "code",
   "execution_count": 40,
   "metadata": {},
   "outputs": [],
   "source": [
    "def init_spark():\n",
    "    spark = SparkSession \\\n",
    "        .builder \\\n",
    "        .appName(\"Movie Recommender\") \\\n",
    "        .config(\"spark.some.config.option\", \"some-value\") \\\n",
    "        .getOrCreate()\n",
    "    return spark"
   ]
  },
  {
   "attachments": {},
   "cell_type": "markdown",
   "metadata": {},
   "source": [
    "<h4>Step 3: Data Preparation/Loading</h4>\n",
    "\n",
    "For our content-based recommender, we will be using `movies_metadata.csv` which contains movies and their features. In this section, we are preparing the data by selecting the columns that we are interested in (id,title, genres, original_title). Furthermore, we are eliminating rows which have missing values since we will not be able to make constructive comparison. \n"
   ]
  },
  {
   "cell_type": "code",
   "execution_count": 41,
   "metadata": {},
   "outputs": [],
   "source": [
    "spark = init_spark()\n",
    "file = spark.read.csv(os.path.join(\"data/movies_metadata.csv\"), header=True, inferSchema=True)\n",
    "\n",
    "# Select columns we are interested in\n",
    "movies_df = file.select(\"id\", \"title\", \"genres\",\"original_title\").distinct()\n",
    "genres_schema = StructType([\n",
    "    StructField(\"id\", IntegerType(), True),\n",
    "    StructField(\"name\", StringType(), True)\n",
    "])\n",
    "\n",
    "# Convert the \"genres\" column to an array of structs\n",
    "movies_df = movies_df.withColumn(\"genres\", from_json(col(\"genres\"), ArrayType(genres_schema)))\n",
    "\n",
    "movies_df = movies_df.select(\"id\",\"original_title\", \"title\", explode(col(\"genres\")).alias(\"genre\")) \\\n",
    "               .select(\"id\",\"original_title\", \"title\", col(\"genre.name\").alias(\"genre_name\")) \\\n",
    "               .dropna()\n",
    "\n",
    "# Group the data by id and title, and collect the genre names into a list\n",
    "movies_df = movies_df.groupBy(\"id\", \"title\",\"original_title\").agg(collect_list(\"genre_name\").alias(\"genres\"))\n",
    "\n",
    "# Combine the genre names into one string\n",
    "movies_df = movies_df.withColumn(\"genres\", concat_ws(\",\", \"genres\"))"
   ]
  },
  {
   "attachments": {},
   "cell_type": "markdown",
   "metadata": {},
   "source": [
    "<h4>Step 4: Data Modeling</h4>\n",
    "\n",
    "For our data modeling, we are using movies weight matrix to find similar movies to recommend. The method takes in a dataframe movies which represents the dataset, a list of movies taken from the user, a list of ratings taken from the user, and the number of recommendation the user would like. The input movie list and rating list corresponds to the rating for each movie the user has listed. For instance, suppose moviesInput = [movie1, movie2, movie3] and inputRatings = [1,8,9], then the user rates movie1 a rating of 1, movie2 a rating of 8, and movie3 a rating of 9. This means that the user likes movie2 and movie3, and dislikes movie1. \n",
    "\n",
    "From these inputs, we create a matrix using the moviesInput and inputRatings. We can also collect distinct genres that for our movies dataset. Then, we create a matrix using the movie dataset and add columns for distinct genres. For each movie, a value of 1 is assigned to genre columns that the movie has and a value of 0 otherwise. For instance, if movie1 is a Family, Animation, and Comedy movie, a value of 1 will be given under Family, Animation and Comedy columns, and other genres will have a value of 0.  \n",
    "\n",
    "The next step is to multiply these matrices to obtain a matrix that has the weight of the users' ratings. This weighted movie matrix is obtained by multiplying the previous matrices. Then, we normalize each genre to obtain a general factor which represents the user profile. The highest normalized value represents the genre that the user prefers. We also ignore movies from the input list since, the goal of a recommender is to give movie suggestion that are not part of the input. \n",
    "\n",
    "Afterwards, we multiply the user profile matrix with our dataset to obtain a new weighted movies matrix which will be used to find the movies that the user will like. We sum all genre rows into a value and the highest score will be the movie that the recommender recommends to the user. The higher the score, the more likely the user will enjoy the movie since the recommend movies ressembles the liked input movies that the user rated. Finally, we return the number of recommendations the user wanted based on a decreasing order of the sum column. \n",
    "\n",
    "The following are the generalized steps used for our data modeling:\n",
    "1. Create a matrix using input user ratings\n",
    "2. Collect distinct genres \n",
    "3. Create a matrix using movies from the data preparation `movies_df`\n",
    "    - Create a column for each genres\n",
    "    - For each row, we add a value of 1 if the movie is part of the genre otherwise the value is 0\n",
    "4. Multiply input user ratings matrix (step 1) with movies matrix (step 3) and obtain the weighted genre matrix\n",
    "5. Aggregate the weighted genres and normalize them to create a user profile to know which genres the user likes \n",
    "6. Mutiply the normalized user profile with the candidate movies to obtain a weighted movies matrix\n",
    "7. Sum all columns to get a score for each movie\n",
    "8. Recommended movies with the highest score"
   ]
  },
  {
   "cell_type": "code",
   "execution_count": 42,
   "metadata": {},
   "outputs": [],
   "source": [
    "def recommend_movies_weight_matrix(movies_df, moviesInput, inputRatings, numberOfRecommendation):\n",
    "\n",
    "    # Format df so that each column is a genre\n",
    "    genres = movies_df.select(\"genres\").rdd.flatMap(lambda x: x[0].split(',')).distinct().collect()\n",
    "\n",
    "    # Create a PySpark dataframe containing the input titles\n",
    "    original_input_df = movies_df.filter(col(\"title\").isin(moviesInput))\n",
    "\n",
    "    for genre in genres:\n",
    "        movies_df = movies_df.withColumn(genre, col(\"genres\").contains(genre).cast(\"int\"))\n",
    "        original_input_df = original_input_df.withColumn(genre, col(\"genres\").contains(genre).cast(\"int\"))\n",
    "\n",
    "    # Multiply the inputRatings with movie matrix with each matrix\n",
    "    for i,movie in enumerate(moviesInput):\n",
    "        rating = inputRatings[i]\n",
    "        movie_input_df = movies_df.filter(col('title') == movie)\n",
    "        for genre in genres:\n",
    "            movie_input_df = movie_input_df.withColumn(genre, col(genre) * rating)\n",
    "        movies_df = movies_df.filter(col('title') != movie).union(movie_input_df)\n",
    "    \n",
    "    user_input_movies_with_ratings_df = movies_df.filter(col('title').isin(moviesInput))\n",
    "\n",
    "    # Dataframe with the sum of each column (HERE WE SHOULD ONLY ADD USER INPUT MOVIES AND NORMALIZE THE USER INPUT MOVIES)\n",
    "    genre_sum_df = user_input_movies_with_ratings_df.select([_sum(genre).alias(genre) for genre in genres])\n",
    "    row_values = genre_sum_df.first()\n",
    "\n",
    "    # Sum of total\n",
    "    result = 0\n",
    "    for column_name in genre_sum_df.columns:\n",
    "        value = row_values[column_name]\n",
    "        result += value\n",
    "\n",
    "    # Normalize each genres\n",
    "    genre_sum_df_normalized = genre_sum_df.select(*[(col(genre) / result).alias(genre) for genre in genre_sum_df.columns])\n",
    "\n",
    "    # Create a new dataframe that multiplies each genre value with the corresponding normalized value\n",
    "    multiplied_df = movies_df\n",
    "    input_multiplied_df = original_input_df\n",
    "    for genre in genres:\n",
    "        normalized_genre = genre_sum_df_normalized.select(genre).first()[0]\n",
    "        multiplied_df = multiplied_df.withColumn(genre, col(genre) * normalized_genre)\n",
    "        input_multiplied_df = input_multiplied_df.withColumn(genre, col(genre) * normalized_genre)\n",
    "    \n",
    "    # Exclude the input movies from the recommendations AND keep ids in clust\n",
    "    multiplied_df = multiplied_df.filter(~col('title').isin(moviesInput))\n",
    "    \n",
    "    # Sum values of a row and store it in a new column called sum then show top 10\n",
    "    final_weighted_matrix = multiplied_df.withColumn('sum', sum(multiplied_df[col] for col in genres))\n",
    "    final_weighted_matrix = final_weighted_matrix.orderBy(\"sum\", ascending=False).limit(numberOfRecommendation)\n",
    "    \n",
    "    return final_weighted_matrix\n",
    "\n"
   ]
  },
  {
   "attachments": {},
   "cell_type": "markdown",
   "metadata": {},
   "source": [
    "<h4>Step 5: Data Prediction</h4>\n",
    "\n",
    "For the movie prediction, we get the input movies from the user with each movie ratings and feed them to our method from the last step `recommend_movies_weight_matrix` with the number of recommendation we want. You can change the moviesInput and ratings list for different recommendation but note that movies must be in the database otherwise it cannot be found. \n"
   ]
  },
  {
   "cell_type": "code",
   "execution_count": 43,
   "metadata": {},
   "outputs": [
    {
     "name": "stdout",
     "output_type": "stream",
     "text": [
      "+------+-------------------------------------------------------------------------------------------------------------------------+----------------------------------+-------------------------------------------------------+--------+--------+-------+---------+---------------+-------+--------+-------+-----------+-------+-----+--------+---------+--------+---+------+--------+-------+-----+------+--------+\n",
      "|id    |title                                                                                                                    |original_title                    |genres                                                 |Mystery |Comedy  |Action |Adventure|Science Fiction|Western|Fantasy |Romance|Documentary|Foreign|Music|TV Movie|Animation|Drama   |War|Horror|Thriller|History|Crime|Family|sum     |\n",
      "+------+-------------------------------------------------------------------------------------------------------------------------+----------------------------------+-------------------------------------------------------+--------+--------+-------+---------+---------------+-------+--------+-------+-----------+-------+-----+--------+---------+--------+---+------+--------+-------+-----+------+--------+\n",
      "|29694 |[{'iso_639_1': 'en', 'name': 'English'}, {'iso_639_1': 'de', 'name': 'Deutsch'}, {'iso_639_1': 'it', 'name': 'Italiano'}]|One of Our Dinosaurs Is Missing   |Action,Adventure,Comedy,Drama,Family,Mystery,Thriller  |0.046875|0.171875|0.15625|0.0      |0.0            |0.0    |0.0     |0.0    |0.0        |0.0    |0.0  |0.0     |0.0      |0.421875|0.0|0.0   |0.15625 |0.0    |0.0  |0.0   |0.953125|\n",
      "|14207 |The Librarian: Quest for the Spear                                                                                       |The Librarian: Quest for the Spear|Thriller,Adventure,Action,Comedy,Drama,Fantasy,Romance |0.0     |0.171875|0.15625|0.0      |0.0            |0.0    |0.046875|0.0    |0.0        |0.0    |0.0  |0.0     |0.0      |0.421875|0.0|0.0   |0.15625 |0.0    |0.0  |0.0   |0.953125|\n",
      "|253980|Marvel One-Shot: All Hail the King                                                                                       |Marvel One-Shot: All Hail the King|Comedy,Action,Drama,Thriller,Fantasy                   |0.0     |0.171875|0.15625|0.0      |0.0            |0.0    |0.046875|0.0    |0.0        |0.0    |0.0  |0.0     |0.0      |0.421875|0.0|0.0   |0.15625 |0.0    |0.0  |0.0   |0.953125|\n",
      "|26381 |Christmas Town                                                                                                           |Christmas Town                    |Fantasy,Drama,Action,Comedy,Thriller,Family            |0.0     |0.171875|0.15625|0.0      |0.0            |0.0    |0.046875|0.0    |0.0        |0.0    |0.0  |0.0     |0.0      |0.421875|0.0|0.0   |0.15625 |0.0    |0.0  |0.0   |0.953125|\n",
      "|325712|Cool Cat Saves the Kids                                                                                                  |Cool Cat Saves the Kids           |Action,Comedy,Crime,Drama,Family,Fantasy,Music,Thriller|0.0     |0.171875|0.15625|0.0      |0.0            |0.0    |0.046875|0.0    |0.0        |0.0    |0.0  |0.0     |0.0      |0.421875|0.0|0.0   |0.15625 |0.0    |0.0  |0.0   |0.953125|\n",
      "|4990  |Hustle                                                                                                                   |Hustle                            |Action,Comedy,Crime,Drama,Mystery,Thriller             |0.046875|0.171875|0.15625|0.0      |0.0            |0.0    |0.0     |0.0    |0.0        |0.0    |0.0  |0.0     |0.0      |0.421875|0.0|0.0   |0.15625 |0.0    |0.0  |0.0   |0.953125|\n",
      "|25495 |Our Man in Havana                                                                                                        |Our Man in Havana                 |Drama,Action,Comedy,Thriller                           |0.0     |0.171875|0.15625|0.0      |0.0            |0.0    |0.0     |0.0    |0.0        |0.0    |0.0  |0.0     |0.0      |0.421875|0.0|0.0   |0.15625 |0.0    |0.0  |0.0   |0.90625 |\n",
      "|150   |48 Hrs.                                                                                                                  |48 Hrs.                           |Thriller,Action,Comedy,Crime,Drama                     |0.0     |0.171875|0.15625|0.0      |0.0            |0.0    |0.0     |0.0    |0.0        |0.0    |0.0  |0.0     |0.0      |0.421875|0.0|0.0   |0.15625 |0.0    |0.0  |0.0   |0.90625 |\n",
      "|26156 |Hiding Out                                                                                                               |Hiding Out                        |Action,Adventure,Comedy,Drama,Family,Thriller          |0.0     |0.171875|0.15625|0.0      |0.0            |0.0    |0.0     |0.0    |0.0        |0.0    |0.0  |0.0     |0.0      |0.421875|0.0|0.0   |0.15625 |0.0    |0.0  |0.0   |0.90625 |\n",
      "|25386 |The 39 Steps                                                                                                             |The 39 Steps                      |Adventure,Drama,Action,Comedy,Thriller,Crime           |0.0     |0.171875|0.15625|0.0      |0.0            |0.0    |0.0     |0.0    |0.0        |0.0    |0.0  |0.0     |0.0      |0.421875|0.0|0.0   |0.15625 |0.0    |0.0  |0.0   |0.90625 |\n",
      "|26635 |Brother Orchid                                                                                                           |Brother Orchid                    |Drama,Action,Comedy,Thriller,Crime                     |0.0     |0.171875|0.15625|0.0      |0.0            |0.0    |0.0     |0.0    |0.0        |0.0    |0.0  |0.0     |0.0      |0.421875|0.0|0.0   |0.15625 |0.0    |0.0  |0.0   |0.90625 |\n",
      "|308165|Action Jackson                                                                                                           |एक्शन जैकसन                       |Action,Comedy,Drama,Romance,Thriller                   |0.0     |0.171875|0.15625|0.0      |0.0            |0.0    |0.0     |0.0    |0.0        |0.0    |0.0  |0.0     |0.0      |0.421875|0.0|0.0   |0.15625 |0.0    |0.0  |0.0   |0.90625 |\n",
      "|30244 |Kabul Express                                                                                                            |Kabul Express                     |Action,Comedy,Drama,Thriller                           |0.0     |0.171875|0.15625|0.0      |0.0            |0.0    |0.0     |0.0    |0.0        |0.0    |0.0  |0.0     |0.0      |0.421875|0.0|0.0   |0.15625 |0.0    |0.0  |0.0   |0.90625 |\n",
      "|32687 |Gabrielle                                                                                                                |Gabrielle                         |Action,Comedy,Drama,Foreign,Romance,Thriller           |0.0     |0.171875|0.15625|0.0      |0.0            |0.0    |0.0     |0.0    |0.0        |0.0    |0.0  |0.0     |0.0      |0.421875|0.0|0.0   |0.15625 |0.0    |0.0  |0.0   |0.90625 |\n",
      "|364433|They Call Me Jeeg Robot                                                                                                  |Lo chiamavano Jeeg Robot          |Action,Drama,Comedy,Thriller,Science Fiction           |0.0     |0.171875|0.15625|0.0      |0.0            |0.0    |0.0     |0.0    |0.0        |0.0    |0.0  |0.0     |0.0      |0.421875|0.0|0.0   |0.15625 |0.0    |0.0  |0.0   |0.90625 |\n",
      "|42160 | he'd be a happy man . . .\"\"\"                                                                                            |The Stunt Man                     |Action,Comedy,Drama,Thriller                           |0.0     |0.171875|0.15625|0.0      |0.0            |0.0    |0.0     |0.0    |0.0        |0.0    |0.0  |0.0     |0.0      |0.421875|0.0|0.0   |0.15625 |0.0    |0.0  |0.0   |0.90625 |\n",
      "|37632 |The Order                                                                                                                |The Order                         |Adventure,Drama,Action,Comedy,Thriller                 |0.0     |0.171875|0.15625|0.0      |0.0            |0.0    |0.0     |0.0    |0.0        |0.0    |0.0  |0.0     |0.0      |0.421875|0.0|0.0   |0.15625 |0.0    |0.0  |0.0   |0.90625 |\n",
      "|5261  |What to Do in Case of Fire?                                                                                              |Was tun, wenn's brennt?           |Thriller,Drama,Comedy,Action,Romance                   |0.0     |0.171875|0.15625|0.0      |0.0            |0.0    |0.0     |0.0    |0.0        |0.0    |0.0  |0.0     |0.0      |0.421875|0.0|0.0   |0.15625 |0.0    |0.0  |0.0   |0.90625 |\n",
      "|51995 |Salvation Boulevard                                                                                                      |Salvation Boulevard               |Comedy,Thriller,Action,Drama                           |0.0     |0.171875|0.15625|0.0      |0.0            |0.0    |0.0     |0.0    |0.0        |0.0    |0.0  |0.0     |0.0      |0.421875|0.0|0.0   |0.15625 |0.0    |0.0  |0.0   |0.90625 |\n",
      "|85242 |Underworld                                                                                                               |Underworld                        |Drama,Action,Comedy,Thriller                           |0.0     |0.171875|0.15625|0.0      |0.0            |0.0    |0.0     |0.0    |0.0        |0.0    |0.0  |0.0     |0.0      |0.421875|0.0|0.0   |0.15625 |0.0    |0.0  |0.0   |0.90625 |\n",
      "+------+-------------------------------------------------------------------------------------------------------------------------+----------------------------------+-------------------------------------------------------+--------+--------+-------+---------+---------------+-------+--------+-------+-----------+-------+-----+--------+---------+--------+---+------+--------+-------+-----+------+--------+\n",
      "only showing top 20 rows\n",
      "\n"
     ]
    }
   ],
   "source": [
    "# Input movies and Ratings for the input movies\n",
    "moviesInput=[\"Popular Music\",\"The Terminal\",\"Donnie Darko\",\"Blood Diamond\",\"Three-Step Dance\"]\n",
    "ratings=[1, 10, 3, 10, 3]\n",
    "# moviesInput = [\"Brother Bear\", \"Toy Story\", \"The Dark Knight\",\"Heat\"]\n",
    "# ratings = [10, 9, 1, 2 ]\n",
    "numberOfRecommendation = 100\n",
    "\n",
    "# Call the recommend_movies function\n",
    "recommended_movies_weight_matrix = recommend_movies_weight_matrix(movies_df, moviesInput, ratings, numberOfRecommendation)\n",
    "recommended_movies_weight_matrix.show(truncate=False)"
   ]
  },
  {
   "attachments": {},
   "cell_type": "markdown",
   "metadata": {},
   "source": [
    "<h4>Step 6: Model Evaluation</h4>\n",
    "\n",
    "A method for validating our results was very challenging to think of, as unsupervised recommenders do not have many options in terms of metrics. The method used to validate our recommendations is to build a k-means clustering model which recommends movies of the same cluster. We then put the recommended movies from our results into the model, and see if the movies input is found in the same cluster. If the recommended movies and the inputted movies are of the same cluster, it proves that they are similar and that it is a good recommendation. \n"
   ]
  },
  {
   "cell_type": "code",
   "execution_count": 44,
   "metadata": {},
   "outputs": [
    {
     "name": "stdout",
     "output_type": "stream",
     "text": [
      "Performance metric (accuracy): 0.88\n"
     ]
    }
   ],
   "source": [
    "def recommend_movies_kmeans(movies_df, liked_moviesInput, recommended_movies_weight_matrix, numberOfRecommendation):\n",
    "    # Assume that the movies input are only movies that are liked by the users\n",
    "    # Train kmean model\n",
    "    # Get predictions of cluster number of movies input\n",
    "    # Filter to search for recommended movies\n",
    "    # Show filter\n",
    "\n",
    "    # Format df so that each column is a genre\n",
    "    genres = movies_df.select(\"genres\").rdd.flatMap(lambda x: x[0].split(',')).distinct().collect()\n",
    "    for genre in genres:\n",
    "        movies_df = movies_df.withColumn(genre, col(\"genres\").contains(genre).cast(\"int\"))\n",
    "    for movie in liked_moviesInput:\n",
    "        movie_input_df = movies_df.filter(col('title') == movie)\n",
    "        for genre in genres:\n",
    "            movie_input_df = movie_input_df.withColumn(genre, col(genre))\n",
    "        movies_df = movies_df.filter(col('title') != movie).union(liked_moviesInput)\n",
    "\n",
    "    # Create feature vector\n",
    "    assembler = VectorAssembler(inputCols=genres, outputCol=\"features\")\n",
    "\n",
    "    movies_df = assembler.transform(movies_df)\n",
    "\n",
    "    # Format input movies as df\n",
    "    user_input_movies_df = movies_df.filter(col('title').isin(liked_moviesInput))\n",
    "\n",
    "    # Cluster movies using KMeans\n",
    "    kmeans = KMeans(k=10)\n",
    "    model = kmeans.fit(movies_df.select(\"features\"))\n",
    "\n",
    "    # Get cluster labels for all movies\n",
    "    clustered = model.transform(movies_df)\n",
    "\n",
    "    # Get cluster labels for user input movies\n",
    "    user_clustered = model.transform(user_input_movies_df).withColumnRenamed(\"title\", \"user_title\")\n",
    "    user_predictions = user_clustered.select('prediction').rdd.flatMap(lambda x: x).collect()\n",
    "\n",
    "    # Get recommended movies from same clusters as user input movies\n",
    "    cluster_movies_df = clustered.filter(col('prediction').isin(user_predictions)).filter(~col('title').isin(liked_moviesInput))\n",
    "\n",
    "    # Get the cluster number for the recommended_movies from weight matrix \n",
    "    list_of_recommended_movies = recommended_movies_weight_matrix.select('id').rdd.flatMap(lambda x: x).collect()\n",
    "    recommended_movies_df = cluster_movies_df.filter(col('id').isin(list_of_recommended_movies))\n",
    "    # recommended_movies_df.show(truncate=False)\n",
    " \n",
    "    print(\"Performance metric (accuracy): \" + str(recommended_movies_df.count() / numberOfRecommendation))\n",
    "    return recommended_movies_df.count() / numberOfRecommendation\n",
    "   \n",
    "\n",
    "# Input movies\n",
    "liked_moviesInput=[\"The Terminal\",\"Blood Diamond\"]\n",
    "\n",
    "# Call the recommend_movies function\n",
    "recommended_movies = recommend_movies_kmeans(movies_df, liked_moviesInput, recommended_movies_weight_matrix, numberOfRecommendation)\n"
   ]
  },
  {
   "attachments": {},
   "cell_type": "markdown",
   "metadata": {},
   "source": [
    "<h4>Step 7: Model Performance</h4>\n",
    "\n",
    "For our model performance, we evaluate the accuracy of the recommended movies for different number of recommendations. We use `recommend_movies_kmeans` with different number of recommendations to get the accuracy and plot it. Looking at the plot generated from the code below, we can observe that the more movies we want recommended, the less accurate the movies are. This can be explained by the sparsity of our data and that we are running out of movies that ressembles the input list. Therefore, the algorithm suggests movies that the user may like but eventually, at a certain point, there is a limited number of movies that are similar to each other.\n"
   ]
  },
  {
   "cell_type": "code",
   "execution_count": 45,
   "metadata": {},
   "outputs": [],
   "source": [
    "x_nb_recommendation = []\n",
    "y_accuracy = []\n",
    "\n",
    "for i in range(50,601,50):\n",
    "    recommended_movies_weight_matrix = recommend_movies_weight_matrix(movies_df, moviesInput, ratings, i)\n",
    "    temp_accuracy = recommend_movies_kmeans(movies_df, liked_moviesInput, recommended_movies_weight_matrix, i)\n",
    "    x_nb_recommendation.append(i)\n",
    "    y_accuracy.append(temp_accuracy)\n",
    "\n",
    "y_accuracy = [round(num, 5) for num in y_accuracy]  \n",
    "\n",
    "print(x_nb_recommendation)\n",
    "print(y_accuracy)\n",
    "\n",
    "plt.plot(x_nb_recommendation, y_accuracy, 'ro')\n",
    "plt.xlabel('x - number of recommendation')\n",
    "plt.ylabel('y - accuracy')\n",
    "plt.title(\"Accuracy of Content-Based Recommendation System for different number of recommendation\")\n",
    "plt.ylim([0, 1])\n",
    "\n",
    "plt.show()\n",
    "\n"
   ]
  },
  {
   "attachments": {},
   "cell_type": "markdown",
   "metadata": {},
   "source": [
    "<h4>Recap of Content-Based recommender system</h4>\n",
    "\n",
    "The content-based recommender system is a recommendation system that suggests items based on the similarity of the item's features to the user's preferences. In our case, we made our recommender in a way so that it would be able to include the user's ratings over the movies which are inputted into the system, allowing for more flexibility and customization over their recommendations. Our recommender system then recommends movies based on genres similarity, and puts more emphasis over those with a higher rating based on the input of the users.\n",
    "\n",
    "A downside of our recommender system is that it is limited to recommending items that are similar to the inputted movies, and may not be able to recommend items which does not have the same genre scope. An alternative to that would be collaborative, where we match user's preference to other similar types of user ratings. Furthermore, since our database of movie is sparse, some movies have a large number of genre attached to it while others only have one genre. Due to the fact that we use a weighted matrix, this can greatly affect the accuracy of our recommender system since movies with multiple genres have more chance to be recommended, as the total sum is impacted by their multiple genres. A minor solution can be to give a very high rating to movies which are liked, as it would impact their sum in a way which makes the multiple genres less significant, or to put movies which are very disliked a rating of 0, which will nullify the impact of their multiple ratings as they will have a value of 0."
   ]
  }
 ],
 "metadata": {
  "kernelspec": {
   "display_name": "venv",
   "language": "python",
   "name": "python3"
  },
  "language_info": {
   "codemirror_mode": {
    "name": "ipython",
    "version": 3
   },
   "file_extension": ".py",
   "mimetype": "text/x-python",
   "name": "python",
   "nbconvert_exporter": "python",
   "pygments_lexer": "ipython3",
   "version": "3.10.2"
  },
  "orig_nbformat": 4
 },
 "nbformat": 4,
 "nbformat_minor": 2
}
