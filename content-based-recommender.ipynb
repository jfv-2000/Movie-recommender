{
 "cells": [
  {
   "attachments": {},
   "cell_type": "markdown",
   "metadata": {},
   "source": [
    "<h1>Content-Based Recommendations Engine</h1>\n",
    "\n",
    "In this section, we set up the foundation for our content-based movie recommender using weighted matrix and kmeans clustering to evaluate the accuracy of the predicted movies. Our system takes in a list of movies and their respective ratings and then recommends movies that are similar in genres to the liked movies. . The higher the ratings of the movies, the more impact their genres will have on the recommended movies. \n",
    "\n",
    "<h2>Method used</h2>\n",
    "\n",
    "Many methods can be used to build a content-based recommender system. Usually, content-based recommender suggests movies of similar style to the inputted movies. What makes our recommender special is that it allows the user to input their ratings along with their movies, allowing for more flexibility and customization. For example, when using Netflix, their recommender has no way of recommending movies as they have no knowledge of the watch history of the specific user. In our case, the user can enter movies with their specific ratings, and their recommended movies will be specific to the genres and adjusted depending on the ratings. \n",
    "\n",
    "In order for the ratings to have an impact on the recommendation system, we decided to use a weighted matrix due. By using a weighted matrix, we can multiply the ratings of the users by the genres related to the inputted movies, allowing the matrix to represent a specific taste of the user. The total scores of each genres for each movies can then be summed together, and the highest score represents the best recommendations. By doing so, genres of high rated movies will have more impact than other less significant genres, allowing the ratings to impact the recommendations in a significant manner. "
   ]
  },
  {
   "attachments": {},
   "cell_type": "markdown",
   "metadata": {},
   "source": [
    "\n",
    "<h4>Step 1: Importing the necessary libraries</h4>\n",
    "\n",
    "Python version 3.10 is used to run the notebook.\n",
    "\n",
    "pip install fo pyspark and matplotlib is required for this to function."
   ]
  },
  {
   "cell_type": "code",
   "execution_count": 1,
   "metadata": {},
   "outputs": [],
   "source": [
    "import os\n",
    "from pyspark.sql import SparkSession\n",
    "from pyspark.sql.functions import col, explode, from_json, col, explode, collect_list,concat_ws\n",
    "from pyspark.sql.types import StructType, StructField, IntegerType, StringType, ArrayType\n",
    "from pyspark.ml.feature import VectorAssembler\n",
    "from pyspark.ml.clustering import KMeans\n",
    "from pyspark.sql.functions import sum as _sum\n",
    "import matplotlib.pyplot as plt"
   ]
  },
  {
   "attachments": {},
   "cell_type": "markdown",
   "metadata": {},
   "source": [
    "<h4>Step 2: Spark Configuration/Setup</h4>\n",
    "\n",
    "We will be using Spark to build our recommender system. Spark is a distributed computing framework that allows us to run our code on a cluster of machines. It's a great tool to use when we want to scale our code to a large dataset. We will be using the pyspark library to run our code on a local machine. We will be using the pyspark.sql library to create our dataframes, and the pyspark.ml library to build our recommender system.\n"
   ]
  },
  {
   "cell_type": "code",
   "execution_count": 2,
   "metadata": {},
   "outputs": [],
   "source": [
    "def init_spark():\n",
    "    spark = SparkSession \\\n",
    "        .builder \\\n",
    "        .appName(\"Movie Recommender\") \\\n",
    "        .config(\"spark.some.config.option\", \"some-value\") \\\n",
    "        .getOrCreate()\n",
    "    return spark"
   ]
  },
  {
   "attachments": {},
   "cell_type": "markdown",
   "metadata": {},
   "source": [
    "<h4>Step 3: Data Preparation/Loading</h4>\n",
    "\n",
    "For our content-based recommender, we will be using `movies_metadata.csv` which contains movies and their features. In this section, we are preparing the data by selecting the columns that we are interested in (id,title, genres, original_title). Furthermore, we are eliminating rows which have missing values since we will not be able to make constructive comparison. \n"
   ]
  },
  {
   "cell_type": "code",
   "execution_count": 3,
   "metadata": {},
   "outputs": [],
   "source": [
    "spark = init_spark()\n",
    "file = spark.read.csv(os.path.join(\"data/movies_metadata.csv\"), header=True, inferSchema=True)\n",
    "\n",
    "# Select columns we are interested in\n",
    "movies_df = file.select(\"id\", \"title\", \"genres\",\"original_title\").distinct()\n",
    "genres_schema = StructType([\n",
    "    StructField(\"id\", IntegerType(), True),\n",
    "    StructField(\"name\", StringType(), True)\n",
    "])\n",
    "\n",
    "# Convert the \"genres\" column to an array of structs\n",
    "movies_df = movies_df.withColumn(\"genres\", from_json(col(\"genres\"), ArrayType(genres_schema)))\n",
    "\n",
    "movies_df = movies_df.select(\"id\",\"original_title\", \"title\", explode(col(\"genres\")).alias(\"genre\")) \\\n",
    "               .select(\"id\",\"original_title\", \"title\", col(\"genre.name\").alias(\"genre_name\")) \\\n",
    "               .dropna()\n",
    "\n",
    "# Group the data by id and title, and collect the genre names into a list\n",
    "movies_df = movies_df.groupBy(\"id\", \"title\",\"original_title\").agg(collect_list(\"genre_name\").alias(\"genres\"))\n",
    "\n",
    "# Combine the genre names into one string\n",
    "movies_df = movies_df.withColumn(\"genres\", concat_ws(\",\", \"genres\"))"
   ]
  },
  {
   "attachments": {},
   "cell_type": "markdown",
   "metadata": {},
   "source": [
    "<h4>Step 4: Data Modeling</h4>\n",
    "\n",
    "For our data modeling, we are using movies weight matrix to find similar movies to recommend. The method takes in a dataframe movies which represents the dataset, a list of movies taken from the user, a list of ratings taken from the user, and the number of recommendation the user would like. The input movie list and rating list corresponds to the rating for each movie the user has listed. For instance, suppose moviesInput = [movie1, movie2, movie3] and inputRatings = [1,8,9], then the user rates movie1 a rating of 1, movie2 a rating of 8, and movie3 a rating of 9. This means that the user likes movie2 and movie3, and dislikes movie1. \n",
    "\n",
    "From these inputs, we create a matrix using the moviesInput and inputRatings. We can also collect distinct genres that for our movies dataset. Then, we create a matrix using the movie dataset and add columns for distinct genres. For each movie, a value of 1 is assigned to genre columns that the movie has and a value of 0 otherwise. For instance, if movie1 is a Family, Animation, and Comedy movie, a value of 1 will be given under Family, Animation and Comedy columns, and other genres will have a value of 0.  \n",
    "\n",
    "The next step is to multiply these matrices to obtain a matrix that has the weight of the users' ratings. This weighted movie matrix is obtained by multiplying the previous matrices. Then, we normalize each genre to obtain a general factor which represents the user profile. The highest normalized value represents the genre that the user prefers. We also ignore movies from the input list since, the goal of a recommender is to give movie suggestion that are not part of the input. \n",
    "\n",
    "Afterwards, we multiply the user profile matrix with our dataset to obtain a new weighted movies matrix which will be used to find the movies that the user will like. We sum all genre rows into a value and the highest score will be the movie that the recommender recommends to the user. The higher the score, the more likely the user will enjoy the movie since the recommend movies ressembles the liked input movies that the user rated. Finally, we return the number of recommendations the user wanted based on a decreasing order of the sum column. \n",
    "\n",
    "The following are the generalized steps used for our data modeling:\n",
    "1. Create a matrix using input user ratings\n",
    "2. Collect distinct genres \n",
    "3. Create a matrix using movies from the data preparation `movies_df`\n",
    "    - Create a column for each genres\n",
    "    - For each row, we add a value of 1 if the movie is part of the genre otherwise the value is 0\n",
    "4. Multiply input user ratings matrix (step 1) with movies matrix (step 3) and obtain the weighted genre matrix\n",
    "5. Aggregate the weighted genres and normalize them to create a user profile to know which genres the user likes \n",
    "6. Mutiply the normalized user profile with the candidate movies to obtain a weighted movies matrix\n",
    "7. Sum all columns to get a score for each movie\n",
    "8. Recommended movies with the highest score"
   ]
  },
  {
   "cell_type": "code",
   "execution_count": 4,
   "metadata": {},
   "outputs": [],
   "source": [
    "def recommend_movies_weight_matrix(movies_df, moviesInput, inputRatings, numberOfRecommendation):\n",
    "\n",
    "    # Format df so that each column is a genre\n",
    "    genres = movies_df.select(\"genres\").rdd.flatMap(lambda x: x[0].split(',')).distinct().collect()\n",
    "\n",
    "    # Create a PySpark dataframe containing the input titles\n",
    "    original_input_df = movies_df.filter(col(\"title\").isin(moviesInput))\n",
    "\n",
    "    for genre in genres:\n",
    "        movies_df = movies_df.withColumn(genre, col(\"genres\").contains(genre).cast(\"int\"))\n",
    "        original_input_df = original_input_df.withColumn(genre, col(\"genres\").contains(genre).cast(\"int\"))\n",
    "\n",
    "    # Multiply the inputRatings with movie matrix with each matrix\n",
    "    for i,movie in enumerate(moviesInput):\n",
    "        rating = inputRatings[i]\n",
    "        movie_input_df = movies_df.filter(col('title') == movie)\n",
    "        for genre in genres:\n",
    "            movie_input_df = movie_input_df.withColumn(genre, col(genre) * rating)\n",
    "        movies_df = movies_df.filter(col('title') != movie).union(movie_input_df)\n",
    "    \n",
    "    user_input_movies_with_ratings_df = movies_df.filter(col('title').isin(moviesInput))\n",
    "\n",
    "    # Dataframe with the sum of each column (HERE WE SHOULD ONLY ADD USER INPUT MOVIES AND NORMALIZE THE USER INPUT MOVIES)\n",
    "    genre_sum_df = user_input_movies_with_ratings_df.select([_sum(genre).alias(genre) for genre in genres])\n",
    "    row_values = genre_sum_df.first()\n",
    "\n",
    "    # Sum of total\n",
    "    result = 0\n",
    "    for column_name in genre_sum_df.columns:\n",
    "        value = row_values[column_name]\n",
    "        result += value\n",
    "\n",
    "    # Normalize each genres\n",
    "    genre_sum_df_normalized = genre_sum_df.select(*[(col(genre) / result).alias(genre) for genre in genre_sum_df.columns])\n",
    "\n",
    "    # Create a new dataframe that multiplies each genre value with the corresponding normalized value\n",
    "    multiplied_df = movies_df\n",
    "    input_multiplied_df = original_input_df\n",
    "    for genre in genres:\n",
    "        normalized_genre = genre_sum_df_normalized.select(genre).first()[0]\n",
    "        multiplied_df = multiplied_df.withColumn(genre, col(genre) * normalized_genre)\n",
    "        input_multiplied_df = input_multiplied_df.withColumn(genre, col(genre) * normalized_genre)\n",
    "    \n",
    "    # Exclude the input movies from the recommendations AND keep ids in clust\n",
    "    multiplied_df = multiplied_df.filter(~col('title').isin(moviesInput))\n",
    "    \n",
    "    # Sum values of a row and store it in a new column called sum then show top 10\n",
    "    final_weighted_matrix = multiplied_df.withColumn('sum', sum(multiplied_df[col] for col in genres))\n",
    "    final_weighted_matrix = final_weighted_matrix.orderBy(\"sum\", ascending=False).limit(numberOfRecommendation)\n",
    "    \n",
    "    return final_weighted_matrix\n",
    "\n"
   ]
  },
  {
   "attachments": {},
   "cell_type": "markdown",
   "metadata": {},
   "source": [
    "<h4>Step 5: Data Prediction</h4>\n",
    "\n",
    "For the movie prediction, we get the input movies from the user with each movie ratings and feed them to our method from the last step `recommend_movies_weight_matrix` with the number of recommendation we want. You can change the moviesInput and ratings list for different recommendation but note that movies must be in the database otherwise it cannot be found. \n"
   ]
  },
  {
   "cell_type": "code",
   "execution_count": 5,
   "metadata": {},
<<<<<<< HEAD
   "outputs": [
    {
     "name": "stdout",
     "output_type": "stream",
     "text": [
      "+------+----------------------------------------+------------------------------------+-------------------------------------------------------------------------+-------+-------------------+-------------------+-------------------+---------------+-------+-------+-------+-----------+-------+-----+--------+-------------------+-------------------+---+------+-------------------+-------+-----+-------------------+------------------+\n",
      "|id    |title                                   |original_title                      |genres                                                                   |Mystery|Comedy             |Action             |Adventure          |Science Fiction|Western|Fantasy|Romance|Documentary|Foreign|Music|TV Movie|Animation          |Drama              |War|Horror|Thriller           |History|Crime|Family             |sum               |\n",
      "+------+----------------------------------------+------------------------------------+-------------------------------------------------------------------------+-------+-------------------+-------------------+-------------------+---------------+-------+-------+-------+-----------+-------+-----+--------+-------------------+-------------------+---+------+-------------------+-------+-----+-------------------+------------------+\n",
      "|15213 |Everyone's Hero                         |Everyone's Hero                     |Action,Adventure,Animation,Comedy,Drama,Family                           |0.0    |0.14285714285714285|0.05194805194805195|0.12987012987012986|0.0            |0.0    |0.0    |0.0    |0.0        |0.0    |0.0  |0.0     |0.24675324675324675|0.07792207792207792|0.0|0.0   |0.0                |0.0    |0.0  |0.24675324675324675|0.8961038961038961|\n",
      "|11052 |[{'iso_639_1': 'en', 'name': 'English'}]|Yu-Gi-Oh! The Movie                 |Adventure,Fantasy,Animation,Action,Comedy,Thriller,Science Fiction,Family|0.0    |0.14285714285714285|0.05194805194805195|0.12987012987012986|0.0            |0.0    |0.0    |0.0    |0.0        |0.0    |0.0  |0.0     |0.24675324675324675|0.0                |0.0|0.0   |0.05194805194805195|0.0    |0.0  |0.24675324675324675|0.8701298701298701|\n",
      "|34003 |Turtles Forever                         |Turtles Forever                     |Science Fiction,Adventure,Animation,Action,Family,Comedy                 |0.0    |0.14285714285714285|0.05194805194805195|0.12987012987012986|0.0            |0.0    |0.0    |0.0    |0.0        |0.0    |0.0  |0.0     |0.24675324675324675|0.0                |0.0|0.0   |0.0                |0.0    |0.0  |0.24675324675324675|0.8181818181818181|\n",
      "|12610 |Osmosis Jones                           |Osmosis Jones                       |Adventure,Animation,Action,Comedy,Family                                 |0.0    |0.14285714285714285|0.05194805194805195|0.12987012987012986|0.0            |0.0    |0.0    |0.0    |0.0        |0.0    |0.0  |0.0     |0.24675324675324675|0.0                |0.0|0.0   |0.0                |0.0    |0.0  |0.24675324675324675|0.8181818181818181|\n",
      "|140300|Released                                |Kung Fu Panda 3                     |Action,Adventure,Animation,Comedy,Family                                 |0.0    |0.14285714285714285|0.05194805194805195|0.12987012987012986|0.0            |0.0    |0.0    |0.0    |0.0        |0.0    |0.0  |0.0     |0.24675324675324675|0.0                |0.0|0.0   |0.0                |0.0    |0.0  |0.24675324675324675|0.8181818181818181|\n",
      "|17711 |The Adventures of Rocky & Bullwinkle    |The Adventures of Rocky & Bullwinkle|Action,Adventure,Animation,Comedy,Family                                 |0.0    |0.14285714285714285|0.05194805194805195|0.12987012987012986|0.0            |0.0    |0.0    |0.0    |0.0        |0.0    |0.0  |0.0     |0.24675324675324675|0.0                |0.0|0.0   |0.0                |0.0    |0.0  |0.24675324675324675|0.8181818181818181|\n",
      "|324852|Despicable Me 3                         |Despicable Me 3                     |Action,Animation,Adventure,Family,Comedy                                 |0.0    |0.14285714285714285|0.05194805194805195|0.12987012987012986|0.0            |0.0    |0.0    |0.0    |0.0        |0.0    |0.0  |0.0     |0.24675324675324675|0.0                |0.0|0.0   |0.0                |0.0    |0.0  |0.24675324675324675|0.8181818181818181|\n",
      "|62177 |Brave                                   |Brave                               |Animation,Adventure,Comedy,Family,Action,Fantasy                         |0.0    |0.14285714285714285|0.05194805194805195|0.12987012987012986|0.0            |0.0    |0.0    |0.0    |0.0        |0.0    |0.0  |0.0     |0.24675324675324675|0.0                |0.0|0.0   |0.0                |0.0    |0.0  |0.24675324675324675|0.8181818181818181|\n",
      "|252983|Sly Cooper                              |Sly Cooper                          |Animation,Adventure,Comedy,Action,Family                                 |0.0    |0.14285714285714285|0.05194805194805195|0.12987012987012986|0.0            |0.0    |0.0    |0.0    |0.0        |0.0    |0.0  |0.0     |0.24675324675324675|0.0                |0.0|0.0   |0.0                |0.0    |0.0  |0.24675324675324675|0.8181818181818181|\n",
      "|37776 |Dead Fury                               |Dead Fury                           |Action,Adventure,Animation,Comedy,Family,Horror                          |0.0    |0.14285714285714285|0.05194805194805195|0.12987012987012986|0.0            |0.0    |0.0    |0.0    |0.0        |0.0    |0.0  |0.0     |0.24675324675324675|0.0                |0.0|0.0   |0.0                |0.0    |0.0  |0.24675324675324675|0.8181818181818181|\n",
      "|12589 |Jimmy Neutron: Boy Genius               |Jimmy Neutron: Boy Genius           |Action,Adventure,Animation,Comedy,Family,Fantasy,Science Fiction         |0.0    |0.14285714285714285|0.05194805194805195|0.12987012987012986|0.0            |0.0    |0.0    |0.0    |0.0        |0.0    |0.0  |0.0     |0.24675324675324675|0.0                |0.0|0.0   |0.0                |0.0    |0.0  |0.24675324675324675|0.8181818181818181|\n",
      "|15173 |Jonah: A VeggieTales Movie              |Jonah: A VeggieTales Movie          |Action,Adventure,Animation,Comedy,Family,Fantasy,Romance                 |0.0    |0.14285714285714285|0.05194805194805195|0.12987012987012986|0.0            |0.0    |0.0    |0.0    |0.0        |0.0    |0.0  |0.0     |0.24675324675324675|0.0                |0.0|0.0   |0.0                |0.0    |0.0  |0.24675324675324675|0.8181818181818181|\n",
      "|177572|Big Hero 6                              |Big Hero 6                          |Adventure,Family,Animation,Action,Comedy                                 |0.0    |0.14285714285714285|0.05194805194805195|0.12987012987012986|0.0            |0.0    |0.0    |0.0    |0.0        |0.0    |0.0  |0.0     |0.24675324675324675|0.0                |0.0|0.0   |0.0                |0.0    |0.0  |0.24675324675324675|0.8181818181818181|\n",
      "|82702 |How to Train Your Dragon 2              |How to Train Your Dragon 2          |Fantasy,Action,Adventure,Animation,Comedy,Family                         |0.0    |0.14285714285714285|0.05194805194805195|0.12987012987012986|0.0            |0.0    |0.0    |0.0    |0.0        |0.0    |0.0  |0.0     |0.24675324675324675|0.0                |0.0|0.0   |0.0                |0.0    |0.0  |0.24675324675324675|0.8181818181818181|\n",
      "|10315 |Fantastic Mr. Fox                       |Fantastic Mr. Fox                   |Adventure,Animation,Comedy,Family                                        |0.0    |0.14285714285714285|0.0                |0.12987012987012986|0.0            |0.0    |0.0    |0.0    |0.0        |0.0    |0.0  |0.0     |0.24675324675324675|0.0                |0.0|0.0   |0.0                |0.0    |0.0  |0.24675324675324675|0.7662337662337662|\n",
      "|11625 |Asterix and the Big Fight               |Astérix et le coup du menhir        |Family,Animation,Adventure,Comedy                                        |0.0    |0.14285714285714285|0.0                |0.12987012987012986|0.0            |0.0    |0.0    |0.0    |0.0        |0.0    |0.0  |0.0     |0.24675324675324675|0.0                |0.0|0.0   |0.0                |0.0    |0.0  |0.24675324675324675|0.7662337662337662|\n",
      "|10192 |Shrek Forever After                     |Shrek Forever After                 |Comedy,Adventure,Fantasy,Animation,Family                                |0.0    |0.14285714285714285|0.0                |0.12987012987012986|0.0            |0.0    |0.0    |0.0    |0.0        |0.0    |0.0  |0.0     |0.24675324675324675|0.0                |0.0|0.0   |0.0                |0.0    |0.0  |0.24675324675324675|0.7662337662337662|\n",
      "|121734|Tad, the Lost Explorer                  |Las aventuras de Tadeo Jones        |Animation,Comedy,Adventure,Family                                        |0.0    |0.14285714285714285|0.0                |0.12987012987012986|0.0            |0.0    |0.0    |0.0    |0.0        |0.0    |0.0  |0.0     |0.24675324675324675|0.0                |0.0|0.0   |0.0                |0.0    |0.0  |0.24675324675324675|0.7662337662337662|\n",
      "|151960|Planes                                  |Planes                              |Animation,Family,Adventure,Comedy                                        |0.0    |0.14285714285714285|0.0                |0.12987012987012986|0.0            |0.0    |0.0    |0.0    |0.0        |0.0    |0.0  |0.0     |0.24675324675324675|0.0                |0.0|0.0   |0.0                |0.0    |0.0  |0.24675324675324675|0.7662337662337662|\n",
      "|14160 |Up                                      |Up                                  |Animation,Comedy,Family,Adventure                                        |0.0    |0.14285714285714285|0.0                |0.12987012987012986|0.0            |0.0    |0.0    |0.0    |0.0        |0.0    |0.0  |0.0     |0.24675324675324675|0.0                |0.0|0.0   |0.0                |0.0    |0.0  |0.24675324675324675|0.7662337662337662|\n",
      "+------+----------------------------------------+------------------------------------+-------------------------------------------------------------------------+-------+-------------------+-------------------+-------------------+---------------+-------+-------+-------+-----------+-------+-----+--------+-------------------+-------------------+---+------+-------------------+-------+-----+-------------------+------------------+\n",
      "only showing top 20 rows\n",
      "\n"
     ]
    }
   ],
=======
   "outputs": [],
>>>>>>> 812bab0252e84aef5c55026761c642ea12af5b5a
   "source": [
    "# Input movies and Ratings for the input movies\n",
    "moviesInput = [\"Brother Bear\", \"Toy Story\", \"The Dark Knight\",\"Heat\"]\n",
    "ratings = [10, 9, 1, 2 ]\n",
    "numberOfRecommendation = 100\n",
    "\n",
    "# Call the recommend_movies function\n",
    "recommended_movies_weight_matrix = recommend_movies_weight_matrix(movies_df, moviesInput, ratings, numberOfRecommendation)\n",
    "recommended_movies_weight_matrix.show(truncate=False)"
   ]
  },
  {
   "attachments": {},
   "cell_type": "markdown",
   "metadata": {},
   "source": [
    "<h4>Step 6: Model Evaluation</h4>\n",
    "\n",
    "A method for validating our results was very challenging to think of, as unsupervised recommenders do not have many options in terms of metrics. The method used to validate our recommendations is to build a k-means clustering model which recommends movies of the same cluster. We then put the recommended movies from our results into the model, and see if the movies input is found in the same cluster. If the recommended movies and the inputted movies are of the same cluster, it proves that they are similar and that it is a good recommendation. \n"
   ]
  },
  {
   "cell_type": "code",
   "execution_count": 6,
   "metadata": {},
   "outputs": [
    {
     "name": "stdout",
     "output_type": "stream",
     "text": [
      "Performance metric (accuracy): 0.99\n"
     ]
    }
   ],
   "source": [
    "def recommend_movies_kmeans(movies_df, moviesInput, recommended_movies_weight_matrix, numberOfRecommendation):\n",
    "\n",
    "    # Train kmean model\n",
    "    # Get predictions of cluster number of movies input\n",
    "    # Filter to search for recommended movies\n",
    "    # Show filter\n",
    "\n",
    "    # Format df so that each column is a genre\n",
    "    genres = movies_df.select(\"genres\").rdd.flatMap(lambda x: x[0].split(',')).distinct().collect()\n",
    "    for genre in genres:\n",
    "        movies_df = movies_df.withColumn(genre, col(\"genres\").contains(genre).cast(\"int\"))\n",
    "    for movie in moviesInput:\n",
    "        movie_input_df = movies_df.filter(col('title') == movie)\n",
    "        for genre in genres:\n",
    "            movie_input_df = movie_input_df.withColumn(genre, col(genre))\n",
    "        movies_df = movies_df.filter(col('title') != movie).union(movie_input_df)\n",
    "\n",
    "    # Create feature vector\n",
    "    assembler = VectorAssembler(inputCols=genres, outputCol=\"features\")\n",
    "\n",
    "    movies_df = assembler.transform(movies_df)\n",
    "\n",
    "    # Format input movies as df\n",
    "    user_input_movies_df = movies_df.filter(col('title').isin(moviesInput))\n",
    "\n",
    "    # Cluster movies using KMeans\n",
    "    kmeans = KMeans(k=15)\n",
    "    model = kmeans.fit(movies_df.select(\"features\"))\n",
    "\n",
    "    # Get cluster labels for all movies\n",
    "    clustered = model.transform(movies_df)\n",
    "\n",
    "    # Get cluster labels for user input movies\n",
    "    user_clustered = model.transform(user_input_movies_df).withColumnRenamed(\"title\", \"user_title\")\n",
    "    user_predictions = user_clustered.select('prediction').rdd.flatMap(lambda x: x).collect()\n",
    "\n",
    "    # Get recommended movies from same clusters as user input movies\n",
    "    cluster_movies_df = clustered.filter(col('prediction').isin(user_predictions)).filter(~col('title').isin(moviesInput))\n",
    "\n",
    "    # Get the cluster number for the recommended_movies from weight matrix \n",
    "    list_of_recommended_movies = recommended_movies_weight_matrix.select('id').rdd.flatMap(lambda x: x).collect()   \n",
    "    recommended_movies_df = cluster_movies_df.filter(col('id').isin(list_of_recommended_movies))\n",
    "    # recommended_movies_df.show(truncate=False)\n",
    " \n",
    "    print(\"Performance metric (accuracy): \" + str(recommended_movies_df.count() / numberOfRecommendation))\n",
    "    return recommended_movies_df.count() / numberOfRecommendation\n",
    "   \n",
    "\n",
    "# Input movies\n",
    "liked_moviesInput = [\"Brother Bear\", \"Toy Story\", \"The Dark Knight\",\"Heat\"]\n",
    "\n",
    "# Call the recommend_movies function\n",
    "recommended_movies = recommend_movies_kmeans(movies_df, liked_moviesInput, recommended_movies_weight_matrix, numberOfRecommendation)\n"
   ]
  },
  {
   "attachments": {},
   "cell_type": "markdown",
   "metadata": {},
   "source": [
    "<h4>Step 7: Model Performance</h4>\n",
    "\n",
<<<<<<< HEAD
    "For our model performance, we evaluate the accuracy of the recommended movies for different number of recommendations. We use `recommend_movies_kmeans` with different number of recommendations to get the accuracy and plot it. Looking at the plot generated from the code below, we can observe that the more movies we want recommended, the less accurate the movies are. This can be explained by the sparsity of our data and that we are running out of movies that ressembles the input list. Therefore, the algorithm suggests movies that the user may like but eventually, at a certain point, there is a limited number of movies that are similar to each other.\n"
=======
    "For our model performance, we evaluate the accuracy of the recommended movies for different number of recommendation. We use `recommend_movies_kmeans` with different number of recommendation to get the accuracy and plot it. Looking at the plot from the code below, we see that the more movies we want, the less accurate the movies are. This can be explained by our dataset running out of similar movies to our inputs and model is recommending movies that are less similar the more movie recommendation we ask. \n"
>>>>>>> 812bab0252e84aef5c55026761c642ea12af5b5a
   ]
  },
  {
   "cell_type": "code",
   "execution_count": 7,
   "metadata": {},
   "outputs": [
    {
     "name": "stderr",
     "output_type": "stream",
     "text": [
      "ERROR:root:KeyboardInterrupt while sending command.\n",
      "Traceback (most recent call last):\n",
      "  File \"c:\\Python310\\lib\\site-packages\\py4j\\java_gateway.py\", line 1038, in send_command\n",
      "    response = connection.send_command(command)\n",
      "  File \"c:\\Python310\\lib\\site-packages\\py4j\\clientserver.py\", line 511, in send_command\n",
      "    answer = smart_decode(self.stream.readline()[:-1])\n",
      "  File \"c:\\Python310\\lib\\socket.py\", line 705, in readinto\n",
      "    return self._sock.recv_into(b)\n",
      "KeyboardInterrupt\n"
     ]
    },
    {
     "ename": "KeyboardInterrupt",
     "evalue": "",
     "output_type": "error",
     "traceback": [
      "\u001b[1;31m---------------------------------------------------------------------------\u001b[0m",
      "\u001b[1;31mKeyboardInterrupt\u001b[0m                         Traceback (most recent call last)",
      "\u001b[1;32mc:\\Users\\jefan\\Documents\\Movie-recommender\\content-based-recommender.ipynb Cell 16\u001b[0m in \u001b[0;36m5\n\u001b[0;32m      <a href='vscode-notebook-cell:/c%3A/Users/jefan/Documents/Movie-recommender/content-based-recommender.ipynb#X20sZmlsZQ%3D%3D?line=1'>2</a>\u001b[0m y_accuracy \u001b[39m=\u001b[39m []\n\u001b[0;32m      <a href='vscode-notebook-cell:/c%3A/Users/jefan/Documents/Movie-recommender/content-based-recommender.ipynb#X20sZmlsZQ%3D%3D?line=3'>4</a>\u001b[0m \u001b[39mfor\u001b[39;00m i \u001b[39min\u001b[39;00m \u001b[39mrange\u001b[39m(\u001b[39m50\u001b[39m,\u001b[39m601\u001b[39m,\u001b[39m50\u001b[39m):\n\u001b[1;32m----> <a href='vscode-notebook-cell:/c%3A/Users/jefan/Documents/Movie-recommender/content-based-recommender.ipynb#X20sZmlsZQ%3D%3D?line=4'>5</a>\u001b[0m     recommended_movies_weight_matrix \u001b[39m=\u001b[39m recommend_movies_weight_matrix(movies_df, moviesInput, ratings, i)\n\u001b[0;32m      <a href='vscode-notebook-cell:/c%3A/Users/jefan/Documents/Movie-recommender/content-based-recommender.ipynb#X20sZmlsZQ%3D%3D?line=5'>6</a>\u001b[0m     temp_accuracy \u001b[39m=\u001b[39m recommend_movies_kmeans(movies_df, liked_moviesInput, recommended_movies_weight_matrix, i)\n\u001b[0;32m      <a href='vscode-notebook-cell:/c%3A/Users/jefan/Documents/Movie-recommender/content-based-recommender.ipynb#X20sZmlsZQ%3D%3D?line=6'>7</a>\u001b[0m     x_nb_recommendation\u001b[39m.\u001b[39mappend(i)\n",
      "\u001b[1;32mc:\\Users\\jefan\\Documents\\Movie-recommender\\content-based-recommender.ipynb Cell 16\u001b[0m in \u001b[0;36m2\n\u001b[0;32m     <a href='vscode-notebook-cell:/c%3A/Users/jefan/Documents/Movie-recommender/content-based-recommender.ipynb#X20sZmlsZQ%3D%3D?line=20'>21</a>\u001b[0m user_input_movies_with_ratings_df \u001b[39m=\u001b[39m movies_df\u001b[39m.\u001b[39mfilter(col(\u001b[39m'\u001b[39m\u001b[39mtitle\u001b[39m\u001b[39m'\u001b[39m)\u001b[39m.\u001b[39misin(moviesInput))\n\u001b[0;32m     <a href='vscode-notebook-cell:/c%3A/Users/jefan/Documents/Movie-recommender/content-based-recommender.ipynb#X20sZmlsZQ%3D%3D?line=22'>23</a>\u001b[0m \u001b[39m# Dataframe with the sum of each column (HERE WE SHOULD ONLY ADD USER INPUT MOVIES AND NORMALIZE THE USER INPUT MOVIES)\u001b[39;00m\n\u001b[1;32m---> <a href='vscode-notebook-cell:/c%3A/Users/jefan/Documents/Movie-recommender/content-based-recommender.ipynb#X20sZmlsZQ%3D%3D?line=23'>24</a>\u001b[0m genre_sum_df \u001b[39m=\u001b[39m user_input_movies_with_ratings_df\u001b[39m.\u001b[39mselect([_sum(genre)\u001b[39m.\u001b[39malias(genre) \u001b[39mfor\u001b[39;00m genre \u001b[39min\u001b[39;00m genres])\n\u001b[0;32m     <a href='vscode-notebook-cell:/c%3A/Users/jefan/Documents/Movie-recommender/content-based-recommender.ipynb#X20sZmlsZQ%3D%3D?line=24'>25</a>\u001b[0m row_values \u001b[39m=\u001b[39m genre_sum_df\u001b[39m.\u001b[39mfirst()\n\u001b[0;32m     <a href='vscode-notebook-cell:/c%3A/Users/jefan/Documents/Movie-recommender/content-based-recommender.ipynb#X20sZmlsZQ%3D%3D?line=26'>27</a>\u001b[0m \u001b[39m# Sum of total\u001b[39;00m\n",
      "\u001b[1;32mc:\\Users\\jefan\\Documents\\Movie-recommender\\content-based-recommender.ipynb Cell 16\u001b[0m in \u001b[0;36m2\n\u001b[0;32m     <a href='vscode-notebook-cell:/c%3A/Users/jefan/Documents/Movie-recommender/content-based-recommender.ipynb#X20sZmlsZQ%3D%3D?line=20'>21</a>\u001b[0m user_input_movies_with_ratings_df \u001b[39m=\u001b[39m movies_df\u001b[39m.\u001b[39mfilter(col(\u001b[39m'\u001b[39m\u001b[39mtitle\u001b[39m\u001b[39m'\u001b[39m)\u001b[39m.\u001b[39misin(moviesInput))\n\u001b[0;32m     <a href='vscode-notebook-cell:/c%3A/Users/jefan/Documents/Movie-recommender/content-based-recommender.ipynb#X20sZmlsZQ%3D%3D?line=22'>23</a>\u001b[0m \u001b[39m# Dataframe with the sum of each column (HERE WE SHOULD ONLY ADD USER INPUT MOVIES AND NORMALIZE THE USER INPUT MOVIES)\u001b[39;00m\n\u001b[1;32m---> <a href='vscode-notebook-cell:/c%3A/Users/jefan/Documents/Movie-recommender/content-based-recommender.ipynb#X20sZmlsZQ%3D%3D?line=23'>24</a>\u001b[0m genre_sum_df \u001b[39m=\u001b[39m user_input_movies_with_ratings_df\u001b[39m.\u001b[39mselect([_sum(genre)\u001b[39m.\u001b[39malias(genre) \u001b[39mfor\u001b[39;00m genre \u001b[39min\u001b[39;00m genres])\n\u001b[0;32m     <a href='vscode-notebook-cell:/c%3A/Users/jefan/Documents/Movie-recommender/content-based-recommender.ipynb#X20sZmlsZQ%3D%3D?line=24'>25</a>\u001b[0m row_values \u001b[39m=\u001b[39m genre_sum_df\u001b[39m.\u001b[39mfirst()\n\u001b[0;32m     <a href='vscode-notebook-cell:/c%3A/Users/jefan/Documents/Movie-recommender/content-based-recommender.ipynb#X20sZmlsZQ%3D%3D?line=26'>27</a>\u001b[0m \u001b[39m# Sum of total\u001b[39;00m\n",
      "File \u001b[1;32m~\\AppData\\Roaming\\Python\\Python310\\site-packages\\pyspark\\sql\\functions.py:289\u001b[0m, in \u001b[0;36msum\u001b[1;34m(col)\u001b[0m\n\u001b[0;32m    284\u001b[0m \u001b[39m@since\u001b[39m(\u001b[39m1.3\u001b[39m)\n\u001b[0;32m    285\u001b[0m \u001b[39mdef\u001b[39;00m \u001b[39msum\u001b[39m(col: \u001b[39m\"\u001b[39m\u001b[39mColumnOrName\u001b[39m\u001b[39m\"\u001b[39m) \u001b[39m-\u001b[39m\u001b[39m>\u001b[39m Column:\n\u001b[0;32m    286\u001b[0m     \u001b[39m\"\"\"\u001b[39;00m\n\u001b[0;32m    287\u001b[0m \u001b[39m    Aggregate function: returns the sum of all values in the expression.\u001b[39;00m\n\u001b[0;32m    288\u001b[0m \u001b[39m    \"\"\"\u001b[39;00m\n\u001b[1;32m--> 289\u001b[0m     \u001b[39mreturn\u001b[39;00m _invoke_function_over_columns(\u001b[39m\"\u001b[39;49m\u001b[39msum\u001b[39;49m\u001b[39m\"\u001b[39;49m, col)\n",
      "File \u001b[1;32m~\\AppData\\Roaming\\Python\\Python310\\site-packages\\pyspark\\sql\\functions.py:93\u001b[0m, in \u001b[0;36m_invoke_function_over_columns\u001b[1;34m(name, *cols)\u001b[0m\n\u001b[0;32m     88\u001b[0m \u001b[39mdef\u001b[39;00m \u001b[39m_invoke_function_over_columns\u001b[39m(name: \u001b[39mstr\u001b[39m, \u001b[39m*\u001b[39mcols: \u001b[39m\"\u001b[39m\u001b[39mColumnOrName\u001b[39m\u001b[39m\"\u001b[39m) \u001b[39m-\u001b[39m\u001b[39m>\u001b[39m Column:\n\u001b[0;32m     89\u001b[0m     \u001b[39m\"\"\"\u001b[39;00m\n\u001b[0;32m     90\u001b[0m \u001b[39m    Invokes n-ary JVM function identified by name\u001b[39;00m\n\u001b[0;32m     91\u001b[0m \u001b[39m    and wraps the result with :class:`~pyspark.sql.Column`.\u001b[39;00m\n\u001b[0;32m     92\u001b[0m \u001b[39m    \"\"\"\u001b[39;00m\n\u001b[1;32m---> 93\u001b[0m     \u001b[39mreturn\u001b[39;00m _invoke_function(name, \u001b[39m*\u001b[39m(_to_java_column(col) \u001b[39mfor\u001b[39;00m col \u001b[39min\u001b[39;00m cols))\n",
      "File \u001b[1;32m~\\AppData\\Roaming\\Python\\Python310\\site-packages\\pyspark\\sql\\functions.py:93\u001b[0m, in \u001b[0;36m<genexpr>\u001b[1;34m(.0)\u001b[0m\n\u001b[0;32m     88\u001b[0m \u001b[39mdef\u001b[39;00m \u001b[39m_invoke_function_over_columns\u001b[39m(name: \u001b[39mstr\u001b[39m, \u001b[39m*\u001b[39mcols: \u001b[39m\"\u001b[39m\u001b[39mColumnOrName\u001b[39m\u001b[39m\"\u001b[39m) \u001b[39m-\u001b[39m\u001b[39m>\u001b[39m Column:\n\u001b[0;32m     89\u001b[0m     \u001b[39m\"\"\"\u001b[39;00m\n\u001b[0;32m     90\u001b[0m \u001b[39m    Invokes n-ary JVM function identified by name\u001b[39;00m\n\u001b[0;32m     91\u001b[0m \u001b[39m    and wraps the result with :class:`~pyspark.sql.Column`.\u001b[39;00m\n\u001b[0;32m     92\u001b[0m \u001b[39m    \"\"\"\u001b[39;00m\n\u001b[1;32m---> 93\u001b[0m     \u001b[39mreturn\u001b[39;00m _invoke_function(name, \u001b[39m*\u001b[39m(_to_java_column(col) \u001b[39mfor\u001b[39;00m col \u001b[39min\u001b[39;00m cols))\n",
      "File \u001b[1;32m~\\AppData\\Roaming\\Python\\Python310\\site-packages\\pyspark\\sql\\column.py:63\u001b[0m, in \u001b[0;36m_to_java_column\u001b[1;34m(col)\u001b[0m\n\u001b[0;32m     61\u001b[0m     jcol \u001b[39m=\u001b[39m col\u001b[39m.\u001b[39m_jc\n\u001b[0;32m     62\u001b[0m \u001b[39melif\u001b[39;00m \u001b[39misinstance\u001b[39m(col, \u001b[39mstr\u001b[39m):\n\u001b[1;32m---> 63\u001b[0m     jcol \u001b[39m=\u001b[39m _create_column_from_name(col)\n\u001b[0;32m     64\u001b[0m \u001b[39melse\u001b[39;00m:\n\u001b[0;32m     65\u001b[0m     \u001b[39mraise\u001b[39;00m \u001b[39mTypeError\u001b[39;00m(\n\u001b[0;32m     66\u001b[0m         \u001b[39m\"\u001b[39m\u001b[39mInvalid argument, not a string or column: \u001b[39m\u001b[39m\"\u001b[39m\n\u001b[0;32m     67\u001b[0m         \u001b[39m\"\u001b[39m\u001b[39m{0}\u001b[39;00m\u001b[39m of type \u001b[39m\u001b[39m{1}\u001b[39;00m\u001b[39m. \u001b[39m\u001b[39m\"\u001b[39m\n\u001b[0;32m     68\u001b[0m         \u001b[39m\"\u001b[39m\u001b[39mFor column literals, use \u001b[39m\u001b[39m'\u001b[39m\u001b[39mlit\u001b[39m\u001b[39m'\u001b[39m\u001b[39m, \u001b[39m\u001b[39m'\u001b[39m\u001b[39marray\u001b[39m\u001b[39m'\u001b[39m\u001b[39m, \u001b[39m\u001b[39m'\u001b[39m\u001b[39mstruct\u001b[39m\u001b[39m'\u001b[39m\u001b[39m or \u001b[39m\u001b[39m'\u001b[39m\u001b[39mcreate_map\u001b[39m\u001b[39m'\u001b[39m\u001b[39m \u001b[39m\u001b[39m\"\u001b[39m\n\u001b[0;32m     69\u001b[0m         \u001b[39m\"\u001b[39m\u001b[39mfunction.\u001b[39m\u001b[39m\"\u001b[39m\u001b[39m.\u001b[39mformat(col, \u001b[39mtype\u001b[39m(col))\n\u001b[0;32m     70\u001b[0m     )\n",
      "File \u001b[1;32m~\\AppData\\Roaming\\Python\\Python310\\site-packages\\pyspark\\sql\\column.py:56\u001b[0m, in \u001b[0;36m_create_column_from_name\u001b[1;34m(name)\u001b[0m\n\u001b[0;32m     54\u001b[0m sc \u001b[39m=\u001b[39m SparkContext\u001b[39m.\u001b[39m_active_spark_context\n\u001b[0;32m     55\u001b[0m \u001b[39massert\u001b[39;00m sc \u001b[39mis\u001b[39;00m \u001b[39mnot\u001b[39;00m \u001b[39mNone\u001b[39;00m \u001b[39mand\u001b[39;00m sc\u001b[39m.\u001b[39m_jvm \u001b[39mis\u001b[39;00m \u001b[39mnot\u001b[39;00m \u001b[39mNone\u001b[39;00m\n\u001b[1;32m---> 56\u001b[0m \u001b[39mreturn\u001b[39;00m sc\u001b[39m.\u001b[39;49m_jvm\u001b[39m.\u001b[39;49mfunctions\u001b[39m.\u001b[39mcol(name)\n",
      "File \u001b[1;32mc:\\Python310\\lib\\site-packages\\py4j\\java_gateway.py:1709\u001b[0m, in \u001b[0;36mJVMView.__getattr__\u001b[1;34m(self, name)\u001b[0m\n\u001b[0;32m   1706\u001b[0m \u001b[39mif\u001b[39;00m name \u001b[39m==\u001b[39m UserHelpAutoCompletion\u001b[39m.\u001b[39mKEY:\n\u001b[0;32m   1707\u001b[0m     \u001b[39mreturn\u001b[39;00m UserHelpAutoCompletion()\n\u001b[1;32m-> 1709\u001b[0m answer \u001b[39m=\u001b[39m \u001b[39mself\u001b[39;49m\u001b[39m.\u001b[39;49m_gateway_client\u001b[39m.\u001b[39;49msend_command(\n\u001b[0;32m   1710\u001b[0m     proto\u001b[39m.\u001b[39;49mREFLECTION_COMMAND_NAME \u001b[39m+\u001b[39;49m\n\u001b[0;32m   1711\u001b[0m     proto\u001b[39m.\u001b[39;49mREFL_GET_UNKNOWN_SUB_COMMAND_NAME \u001b[39m+\u001b[39;49m name \u001b[39m+\u001b[39;49m \u001b[39m\"\u001b[39;49m\u001b[39m\\n\u001b[39;49;00m\u001b[39m\"\u001b[39;49m \u001b[39m+\u001b[39;49m \u001b[39mself\u001b[39;49m\u001b[39m.\u001b[39;49m_id \u001b[39m+\u001b[39;49m\n\u001b[0;32m   1712\u001b[0m     \u001b[39m\"\u001b[39;49m\u001b[39m\\n\u001b[39;49;00m\u001b[39m\"\u001b[39;49m \u001b[39m+\u001b[39;49m proto\u001b[39m.\u001b[39;49mEND_COMMAND_PART)\n\u001b[0;32m   1713\u001b[0m \u001b[39mif\u001b[39;00m answer \u001b[39m==\u001b[39m proto\u001b[39m.\u001b[39mSUCCESS_PACKAGE:\n\u001b[0;32m   1714\u001b[0m     \u001b[39mreturn\u001b[39;00m JavaPackage(name, \u001b[39mself\u001b[39m\u001b[39m.\u001b[39m_gateway_client, jvm_id\u001b[39m=\u001b[39m\u001b[39mself\u001b[39m\u001b[39m.\u001b[39m_id)\n",
      "File \u001b[1;32mc:\\Python310\\lib\\site-packages\\py4j\\java_gateway.py:1038\u001b[0m, in \u001b[0;36mGatewayClient.send_command\u001b[1;34m(self, command, retry, binary)\u001b[0m\n\u001b[0;32m   1036\u001b[0m connection \u001b[39m=\u001b[39m \u001b[39mself\u001b[39m\u001b[39m.\u001b[39m_get_connection()\n\u001b[0;32m   1037\u001b[0m \u001b[39mtry\u001b[39;00m:\n\u001b[1;32m-> 1038\u001b[0m     response \u001b[39m=\u001b[39m connection\u001b[39m.\u001b[39;49msend_command(command)\n\u001b[0;32m   1039\u001b[0m     \u001b[39mif\u001b[39;00m binary:\n\u001b[0;32m   1040\u001b[0m         \u001b[39mreturn\u001b[39;00m response, \u001b[39mself\u001b[39m\u001b[39m.\u001b[39m_create_connection_guard(connection)\n",
      "File \u001b[1;32mc:\\Python310\\lib\\site-packages\\py4j\\clientserver.py:511\u001b[0m, in \u001b[0;36mClientServerConnection.send_command\u001b[1;34m(self, command)\u001b[0m\n\u001b[0;32m    509\u001b[0m \u001b[39mtry\u001b[39;00m:\n\u001b[0;32m    510\u001b[0m     \u001b[39mwhile\u001b[39;00m \u001b[39mTrue\u001b[39;00m:\n\u001b[1;32m--> 511\u001b[0m         answer \u001b[39m=\u001b[39m smart_decode(\u001b[39mself\u001b[39;49m\u001b[39m.\u001b[39;49mstream\u001b[39m.\u001b[39;49mreadline()[:\u001b[39m-\u001b[39m\u001b[39m1\u001b[39m])\n\u001b[0;32m    512\u001b[0m         logger\u001b[39m.\u001b[39mdebug(\u001b[39m\"\u001b[39m\u001b[39mAnswer received: \u001b[39m\u001b[39m{0}\u001b[39;00m\u001b[39m\"\u001b[39m\u001b[39m.\u001b[39mformat(answer))\n\u001b[0;32m    513\u001b[0m         \u001b[39m# Happens when a the other end is dead. There might be an empty\u001b[39;00m\n\u001b[0;32m    514\u001b[0m         \u001b[39m# answer before the socket raises an error.\u001b[39;00m\n",
      "File \u001b[1;32mc:\\Python310\\lib\\socket.py:705\u001b[0m, in \u001b[0;36mSocketIO.readinto\u001b[1;34m(self, b)\u001b[0m\n\u001b[0;32m    703\u001b[0m \u001b[39mwhile\u001b[39;00m \u001b[39mTrue\u001b[39;00m:\n\u001b[0;32m    704\u001b[0m     \u001b[39mtry\u001b[39;00m:\n\u001b[1;32m--> 705\u001b[0m         \u001b[39mreturn\u001b[39;00m \u001b[39mself\u001b[39;49m\u001b[39m.\u001b[39;49m_sock\u001b[39m.\u001b[39;49mrecv_into(b)\n\u001b[0;32m    706\u001b[0m     \u001b[39mexcept\u001b[39;00m timeout:\n\u001b[0;32m    707\u001b[0m         \u001b[39mself\u001b[39m\u001b[39m.\u001b[39m_timeout_occurred \u001b[39m=\u001b[39m \u001b[39mTrue\u001b[39;00m\n",
      "\u001b[1;31mKeyboardInterrupt\u001b[0m: "
     ]
    }
   ],
   "source": [
    "x_nb_recommendation = []\n",
    "y_accuracy = []\n",
    "\n",
    "for i in range(50,601,50):\n",
    "    recommended_movies_weight_matrix = recommend_movies_weight_matrix(movies_df, moviesInput, ratings, i)\n",
    "    temp_accuracy = recommend_movies_kmeans(movies_df, liked_moviesInput, recommended_movies_weight_matrix, i)\n",
    "    x_nb_recommendation.append(i)\n",
    "    y_accuracy.append(temp_accuracy)\n",
    "\n",
    "y_accuracy = [round(num, 5) for num in y_accuracy]  \n",
    "\n",
    "print(x_nb_recommendation)\n",
    "print(y_accuracy)\n",
    "\n",
    "plt.plot(x_nb_recommendation, y_accuracy, 'ro')\n",
    "plt.xlabel('x - number of recommendation')\n",
    "plt.ylabel('y - accuracy')\n",
    "plt.title(\"Accuracy of Content-Based Recommendation System for different number of recommendation\")\n",
    "plt.ylim([0, 1])\n",
    "\n",
    "plt.show()\n",
    "\n"
   ]
  },
  {
   "attachments": {},
   "cell_type": "markdown",
   "metadata": {},
   "source": [
    "<h4>Recap of Content-Based recommender system</h4>\n",
    "\n",
    "The content-based recommender system is a recommendation system that suggests items based on the similarity of the item's features to the user's preferences. In our case, we made our recommender in a way so that it would be able to include the user's ratings over the movies which are inputted into the system, allowing for more flexibility and customization over their recommendations. Our recommender system then recommends movies based on genres similarity, and puts more emphasis over those with a higher rating based on the input of the users.\n",
    "\n",
    "A downside of our recommender system is that it is limited to recommending items that are similar to the inputted movies, and may not be able to recommend items which does not have the same genre scope. An alternative to that would be collaborative, where we match user's preference to other similar types of user ratings. Furthermore, since our database of movie is sparse, some movies have a large number of genre attached to it while others only have one genre. Due to the fact that we use a weighted matrix, this can greatly affect the accuracy of our recommender system since movies with multiple genres have more chance to be recommended, as the total sum is impacted by their multiple genres. A minor solution can be to give a very high rating to movies which are liked, as it would impact their sum in a way which makes the multiple genres less significant, or to put movies which are very disliked a rating of 0, which will nullify the impact of their multiple ratings as they will have a value of 0."
   ]
  }
 ],
 "metadata": {
  "kernelspec": {
   "display_name": "venv",
   "language": "python",
   "name": "python3"
  },
  "language_info": {
   "codemirror_mode": {
    "name": "ipython",
    "version": 3
   },
   "file_extension": ".py",
   "mimetype": "text/x-python",
   "name": "python",
   "nbconvert_exporter": "python",
   "pygments_lexer": "ipython3",
   "version": "3.10.2"
  },
  "orig_nbformat": 4
 },
 "nbformat": 4,
 "nbformat_minor": 2
}
