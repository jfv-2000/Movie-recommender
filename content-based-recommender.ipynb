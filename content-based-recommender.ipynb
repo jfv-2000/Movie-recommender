{
 "cells": [
  {
   "attachments": {},
   "cell_type": "markdown",
   "metadata": {},
   "source": [
    "<h1>Content-Based Recommendations Engine</h1>\n",
    "\n",
    "In this section, we set up the foundation for our content-based movie recommender using weighted matrix and kmeans clustering to evaluate the accuracy of the predicted movies. Our system takes in a list of movies and their ratings from the user and will recommend movies that are similar in genres to the liked movies. "
   ]
  },
  {
   "attachments": {},
   "cell_type": "markdown",
   "metadata": {},
   "source": [
    "\n",
    "<h4>Step 1: Importing the necessary libraries</h4>"
   ]
  },
  {
   "cell_type": "code",
   "execution_count": 1,
   "metadata": {},
   "outputs": [],
   "source": [
    "import os\n",
    "from pyspark.sql import SparkSession\n",
    "from pyspark.sql.functions import col, explode, from_json, col, explode, collect_list,concat_ws,lit\n",
    "from pyspark.sql.types import StructType, StructField, IntegerType, StringType, ArrayType\n",
    "from pyspark.ml.feature import VectorAssembler\n",
    "from pyspark.ml.clustering import KMeans\n",
    "from pyspark.sql.functions import sum as _sum\n",
    "import matplotlib.pyplot as plt"
   ]
  },
  {
   "attachments": {},
   "cell_type": "markdown",
   "metadata": {},
   "source": [
    "<h4>Step 2: Spark Configuration/Setup</h4>\n",
    "\n",
    "We will be using Spark to build our recommender system. Spark is a distributed computing framework that allows us to run our code on a cluster of machines. It's a great tool to use when we want to scale our code to a large dataset. We will be using the pyspark library to run our code on a local machine. We will be using the pyspark.sql library to create our dataframes, and the pyspark.ml library to build our recommender system.\n"
   ]
  },
  {
   "cell_type": "code",
   "execution_count": 2,
   "metadata": {},
   "outputs": [],
   "source": [
    "def init_spark():\n",
    "    spark = SparkSession \\\n",
    "        .builder \\\n",
    "        .appName(\"Movie Recommender\") \\\n",
    "        .config(\"spark.some.config.option\", \"some-value\") \\\n",
    "        .getOrCreate()\n",
    "    return spark"
   ]
  },
  {
   "attachments": {},
   "cell_type": "markdown",
   "metadata": {},
   "source": [
    "<h4>Step 3: Data Preparation/Loading</h4>\n",
    "\n",
    "For our content-based recommender, we will be using `movies_metadata.csv` which movies and their features. In this section, we are preparing the data by selecting the columns that we are interested in (id,title, genres, original_title). Furthermore, we are eliminating rows which have missing values since we will not be able to make constructive comparison. \n"
   ]
  },
  {
   "cell_type": "code",
   "execution_count": 3,
   "metadata": {},
   "outputs": [],
   "source": [
    "spark = init_spark()\n",
    "file = spark.read.csv(os.path.join(\"data/movies_metadata.csv\"), header=True, inferSchema=True)\n",
    "\n",
    "# Select columns we are interested in\n",
    "movies_df = file.select(\"id\", \"title\", \"genres\",\"original_title\").distinct()\n",
    "genres_schema = StructType([\n",
    "    StructField(\"id\", IntegerType(), True),\n",
    "    StructField(\"name\", StringType(), True)\n",
    "])\n",
    "\n",
    "# Convert the \"genres\" column to an array of structs\n",
    "movies_df = movies_df.withColumn(\"genres\", from_json(col(\"genres\"), ArrayType(genres_schema)))\n",
    "\n",
    "movies_df = movies_df.select(\"id\",\"original_title\", \"title\", explode(col(\"genres\")).alias(\"genre\")) \\\n",
    "               .select(\"id\",\"original_title\", \"title\", col(\"genre.name\").alias(\"genre_name\")) \\\n",
    "               .dropna()\n",
    "\n",
    "# Group the data by id and title, and collect the genre names into a list\n",
    "movies_df = movies_df.groupBy(\"id\", \"title\",\"original_title\").agg(collect_list(\"genre_name\").alias(\"genres\"))\n",
    "\n",
    "# Combine the genre names into one string\n",
    "movies_df = movies_df.withColumn(\"genres\", concat_ws(\",\", \"genres\"))"
   ]
  },
  {
   "attachments": {},
   "cell_type": "markdown",
   "metadata": {},
   "source": [
    "<h4>Step 4: Data Modeling</h4>\n",
    "\n",
    "For our data modeling we will follow the following step:\n",
    "1. Create a matrix using input user ratings\n",
    "2. Collect distinct genres \n",
    "3. Create a matrix using movies from Step 3 `movies_df`\n",
    "    - Create a column for each genres\n",
    "    - For each row, we add a value of 1 if the movie is part of the genre otherwise the value is 0\n",
    "4. Multiply input user ratings matrix (1) with movies matrix (3) and obtain weighted genre matrix\n",
    "5. Aggregate the weighted genres and normalize them to create a user profile to know which genres the user likes \n",
    "6. Mutiply the normalized user profile with the candidate movies to obtain a weighted movies matrix\n",
    "7. Sum all columns to get a score for each movie\n",
    "8. Recommended movies are movies with the highest score"
   ]
  },
  {
   "cell_type": "code",
   "execution_count": 4,
   "metadata": {},
   "outputs": [],
   "source": [
    "def recommend_movies_weight_matrix(movies_df, moviesInput, inputRatings, numberOfRecommendation):\n",
    "\n",
    "    # Format df so that each column is a genre\n",
    "    genres = movies_df.select(\"genres\").rdd.flatMap(lambda x: x[0].split(',')).distinct().collect()\n",
    "\n",
    "    # Create a PySpark dataframe containing the input titles\n",
    "    original_input_df = movies_df.filter(col(\"title\").isin(moviesInput))\n",
    "\n",
    "    for genre in genres:\n",
    "        movies_df = movies_df.withColumn(genre, col(\"genres\").contains(genre).cast(\"int\"))\n",
    "        original_input_df = original_input_df.withColumn(genre, col(\"genres\").contains(genre).cast(\"int\"))\n",
    "\n",
    "    # Multiply the inputRatings with movie matrix with each matrix\n",
    "    for i,movie in enumerate(moviesInput):\n",
    "        rating = inputRatings[i]\n",
    "        movie_input_df = movies_df.filter(col('title') == movie)\n",
    "        for genre in genres:\n",
    "            movie_input_df = movie_input_df.withColumn(genre, col(genre) * rating)\n",
    "        movies_df = movies_df.filter(col('title') != movie).union(movie_input_df)\n",
    "    \n",
    "    user_input_movies_with_ratings_df = movies_df.filter(col('title').isin(moviesInput))\n",
    "\n",
    "    # Dataframe with the sum of each column (HERE WE SHOULD ONLY ADD USER INPUT MOVIES AND NORMALIZE THE USER INPUT MOVIES)\n",
    "    genre_sum_df = user_input_movies_with_ratings_df.select([_sum(genre).alias(genre) for genre in genres])\n",
    "    row_values = genre_sum_df.first()\n",
    "\n",
    "    # Sum of total\n",
    "    result = 0\n",
    "    for column_name in genre_sum_df.columns:\n",
    "        value = row_values[column_name]\n",
    "        result += value\n",
    "\n",
    "    # Normalize each genres\n",
    "    genre_sum_df_normalized = genre_sum_df.select(*[(col(genre) / result).alias(genre) for genre in genre_sum_df.columns])\n",
    "\n",
    "    # Create a new dataframe that multiplies each genre value with the corresponding normalized value\n",
    "    multiplied_df = movies_df\n",
    "    input_multiplied_df = original_input_df\n",
    "    for genre in genres:\n",
    "        normalized_genre = genre_sum_df_normalized.select(genre).first()[0]\n",
    "        multiplied_df = multiplied_df.withColumn(genre, col(genre) * normalized_genre)\n",
    "        input_multiplied_df = input_multiplied_df.withColumn(genre, col(genre) * normalized_genre)\n",
    "    \n",
    "    # Exclude the input movies from the recommendations AND keep ids in clust\n",
    "    multiplied_df = multiplied_df.filter(~col('title').isin(moviesInput))\n",
    "    \n",
    "    # Sum values of a row and store it in a new column called sum then show top 10\n",
    "    final_weighted_matrix = multiplied_df.withColumn('sum', sum(multiplied_df[col] for col in genres))\n",
    "    final_weighted_matrix = final_weighted_matrix.orderBy(\"sum\", ascending=False).limit(numberOfRecommendation)\n",
    "    # final_weighted_matrix.show(truncate=False)\n",
    "\n",
    "    # Evaluation (compare the sum of the inputs to the sum of the suggested movies)\n",
    "    # final_original_inputs_weighted_matrix = input_multiplied_df.withColumn('sum', sum(input_multiplied_df[col] for col in genres))\n",
    "    # final_original_inputs_weighted_matrix = final_original_inputs_weighted_matrix.orderBy(\"sum\", ascending=False)\n",
    "    # final_original_inputs_weighted_matrix.show(truncate=False)\n",
    "    \n",
    "    return final_weighted_matrix\n",
    "\n"
   ]
  },
  {
   "attachments": {},
   "cell_type": "markdown",
   "metadata": {},
   "source": [
    "<h4>Step 5: Data Prediction</h4>\n",
    "\n",
    "For the movie prediction, we get the input movies from the user with each movie ratings and feed them to our method from the last step `recommend_movies_weight_matrix` with the number of recommendation we want. \n"
   ]
  },
  {
   "cell_type": "code",
   "execution_count": 5,
   "metadata": {},
   "outputs": [
    {
     "name": "stdout",
     "output_type": "stream",
     "text": [
      "+------+----------------------------------------+------------------------------------+-------------------------------------------------------------------------+-------+-------------------+-------------------+-------------------+---------------+-------+-------+-------+-----------+-------+-----+--------+-------------------+-------------------+---+------+-------------------+-------+-----+-------------------+------------------+\n",
      "|id    |title                                   |original_title                      |genres                                                                   |Mystery|Comedy             |Action             |Adventure          |Science Fiction|Western|Fantasy|Romance|Documentary|Foreign|Music|TV Movie|Animation          |Drama              |War|Horror|Thriller           |History|Crime|Family             |sum               |\n",
      "+------+----------------------------------------+------------------------------------+-------------------------------------------------------------------------+-------+-------------------+-------------------+-------------------+---------------+-------+-------+-------+-----------+-------+-----+--------+-------------------+-------------------+---+------+-------------------+-------+-----+-------------------+------------------+\n",
      "|15213 |Everyone's Hero                         |Everyone's Hero                     |Action,Adventure,Animation,Comedy,Drama,Family                           |0.0    |0.14285714285714285|0.05194805194805195|0.12987012987012986|0.0            |0.0    |0.0    |0.0    |0.0        |0.0    |0.0  |0.0     |0.24675324675324675|0.07792207792207792|0.0|0.0   |0.0                |0.0    |0.0  |0.24675324675324675|0.8961038961038961|\n",
      "|11052 |[{'iso_639_1': 'en', 'name': 'English'}]|Yu-Gi-Oh! The Movie                 |Adventure,Fantasy,Animation,Action,Comedy,Thriller,Science Fiction,Family|0.0    |0.14285714285714285|0.05194805194805195|0.12987012987012986|0.0            |0.0    |0.0    |0.0    |0.0        |0.0    |0.0  |0.0     |0.24675324675324675|0.0                |0.0|0.0   |0.05194805194805195|0.0    |0.0  |0.24675324675324675|0.8701298701298701|\n",
      "|252983|Sly Cooper                              |Sly Cooper                          |Animation,Adventure,Comedy,Action,Family                                 |0.0    |0.14285714285714285|0.05194805194805195|0.12987012987012986|0.0            |0.0    |0.0    |0.0    |0.0        |0.0    |0.0  |0.0     |0.24675324675324675|0.0                |0.0|0.0   |0.0                |0.0    |0.0  |0.24675324675324675|0.8181818181818181|\n",
      "|17711 |The Adventures of Rocky & Bullwinkle    |The Adventures of Rocky & Bullwinkle|Action,Adventure,Animation,Comedy,Family                                 |0.0    |0.14285714285714285|0.05194805194805195|0.12987012987012986|0.0            |0.0    |0.0    |0.0    |0.0        |0.0    |0.0  |0.0     |0.24675324675324675|0.0                |0.0|0.0   |0.0                |0.0    |0.0  |0.24675324675324675|0.8181818181818181|\n",
      "|140300|Released                                |Kung Fu Panda 3                     |Action,Adventure,Animation,Comedy,Family                                 |0.0    |0.14285714285714285|0.05194805194805195|0.12987012987012986|0.0            |0.0    |0.0    |0.0    |0.0        |0.0    |0.0  |0.0     |0.24675324675324675|0.0                |0.0|0.0   |0.0                |0.0    |0.0  |0.24675324675324675|0.8181818181818181|\n",
      "|324852|Despicable Me 3                         |Despicable Me 3                     |Action,Animation,Adventure,Family,Comedy                                 |0.0    |0.14285714285714285|0.05194805194805195|0.12987012987012986|0.0            |0.0    |0.0    |0.0    |0.0        |0.0    |0.0  |0.0     |0.24675324675324675|0.0                |0.0|0.0   |0.0                |0.0    |0.0  |0.24675324675324675|0.8181818181818181|\n",
      "|37776 |Dead Fury                               |Dead Fury                           |Action,Adventure,Animation,Comedy,Family,Horror                          |0.0    |0.14285714285714285|0.05194805194805195|0.12987012987012986|0.0            |0.0    |0.0    |0.0    |0.0        |0.0    |0.0  |0.0     |0.24675324675324675|0.0                |0.0|0.0   |0.0                |0.0    |0.0  |0.24675324675324675|0.8181818181818181|\n",
      "|34003 |Turtles Forever                         |Turtles Forever                     |Science Fiction,Adventure,Animation,Action,Family,Comedy                 |0.0    |0.14285714285714285|0.05194805194805195|0.12987012987012986|0.0            |0.0    |0.0    |0.0    |0.0        |0.0    |0.0  |0.0     |0.24675324675324675|0.0                |0.0|0.0   |0.0                |0.0    |0.0  |0.24675324675324675|0.8181818181818181|\n",
      "|62177 |Brave                                   |Brave                               |Animation,Adventure,Comedy,Family,Action,Fantasy                         |0.0    |0.14285714285714285|0.05194805194805195|0.12987012987012986|0.0            |0.0    |0.0    |0.0    |0.0        |0.0    |0.0  |0.0     |0.24675324675324675|0.0                |0.0|0.0   |0.0                |0.0    |0.0  |0.24675324675324675|0.8181818181818181|\n",
      "|12589 |Jimmy Neutron: Boy Genius               |Jimmy Neutron: Boy Genius           |Action,Adventure,Animation,Comedy,Family,Fantasy,Science Fiction         |0.0    |0.14285714285714285|0.05194805194805195|0.12987012987012986|0.0            |0.0    |0.0    |0.0    |0.0        |0.0    |0.0  |0.0     |0.24675324675324675|0.0                |0.0|0.0   |0.0                |0.0    |0.0  |0.24675324675324675|0.8181818181818181|\n",
      "|12610 |Osmosis Jones                           |Osmosis Jones                       |Adventure,Animation,Action,Comedy,Family                                 |0.0    |0.14285714285714285|0.05194805194805195|0.12987012987012986|0.0            |0.0    |0.0    |0.0    |0.0        |0.0    |0.0  |0.0     |0.24675324675324675|0.0                |0.0|0.0   |0.0                |0.0    |0.0  |0.24675324675324675|0.8181818181818181|\n",
      "|15173 |Jonah: A VeggieTales Movie              |Jonah: A VeggieTales Movie          |Action,Adventure,Animation,Comedy,Family,Fantasy,Romance                 |0.0    |0.14285714285714285|0.05194805194805195|0.12987012987012986|0.0            |0.0    |0.0    |0.0    |0.0        |0.0    |0.0  |0.0     |0.24675324675324675|0.0                |0.0|0.0   |0.0                |0.0    |0.0  |0.24675324675324675|0.8181818181818181|\n",
      "|177572|Big Hero 6                              |Big Hero 6                          |Adventure,Family,Animation,Action,Comedy                                 |0.0    |0.14285714285714285|0.05194805194805195|0.12987012987012986|0.0            |0.0    |0.0    |0.0    |0.0        |0.0    |0.0  |0.0     |0.24675324675324675|0.0                |0.0|0.0   |0.0                |0.0    |0.0  |0.24675324675324675|0.8181818181818181|\n",
      "|82702 |How to Train Your Dragon 2              |How to Train Your Dragon 2          |Fantasy,Action,Adventure,Animation,Comedy,Family                         |0.0    |0.14285714285714285|0.05194805194805195|0.12987012987012986|0.0            |0.0    |0.0    |0.0    |0.0        |0.0    |0.0  |0.0     |0.24675324675324675|0.0                |0.0|0.0   |0.0                |0.0    |0.0  |0.24675324675324675|0.8181818181818181|\n",
      "|1260  |Lotte from Gadgetville                  |Leiutajateküla Lotte                |Adventure,Animation,Comedy,Family                                        |0.0    |0.14285714285714285|0.0                |0.12987012987012986|0.0            |0.0    |0.0    |0.0    |0.0        |0.0    |0.0  |0.0     |0.24675324675324675|0.0                |0.0|0.0   |0.0                |0.0    |0.0  |0.24675324675324675|0.7662337662337662|\n",
      "|1273  |TMNT                                    |TMNT                                |Adventure,Animation,Comedy,Family                                        |0.0    |0.14285714285714285|0.0                |0.12987012987012986|0.0            |0.0    |0.0    |0.0    |0.0        |0.0    |0.0  |0.0     |0.24675324675324675|0.0                |0.0|0.0   |0.0                |0.0    |0.0  |0.24675324675324675|0.7662337662337662|\n",
      "|10315 |Fantastic Mr. Fox                       |Fantastic Mr. Fox                   |Adventure,Animation,Comedy,Family                                        |0.0    |0.14285714285714285|0.0                |0.12987012987012986|0.0            |0.0    |0.0    |0.0    |0.0        |0.0    |0.0  |0.0     |0.24675324675324675|0.0                |0.0|0.0   |0.0                |0.0    |0.0  |0.24675324675324675|0.7662337662337662|\n",
      "|13053 |Bolt                                    |Bolt                                |Animation,Family,Adventure,Comedy                                        |0.0    |0.14285714285714285|0.0                |0.12987012987012986|0.0            |0.0    |0.0    |0.0    |0.0        |0.0    |0.0  |0.0     |0.24675324675324675|0.0                |0.0|0.0   |0.0                |0.0    |0.0  |0.24675324675324675|0.7662337662337662|\n",
      "|11625 |Asterix and the Big Fight               |Astérix et le coup du menhir        |Family,Animation,Adventure,Comedy                                        |0.0    |0.14285714285714285|0.0                |0.12987012987012986|0.0            |0.0    |0.0    |0.0    |0.0        |0.0    |0.0  |0.0     |0.24675324675324675|0.0                |0.0|0.0   |0.0                |0.0    |0.0  |0.24675324675324675|0.7662337662337662|\n",
      "|13394 |Shrek the Halls                         |Shrek the Halls                     |Adventure,Animation,Comedy,Fantasy,Family                                |0.0    |0.14285714285714285|0.0                |0.12987012987012986|0.0            |0.0    |0.0    |0.0    |0.0        |0.0    |0.0  |0.0     |0.24675324675324675|0.0                |0.0|0.0   |0.0                |0.0    |0.0  |0.24675324675324675|0.7662337662337662|\n",
      "+------+----------------------------------------+------------------------------------+-------------------------------------------------------------------------+-------+-------------------+-------------------+-------------------+---------------+-------+-------+-------+-----------+-------+-----+--------+-------------------+-------------------+---+------+-------------------+-------+-----+-------------------+------------------+\n",
      "only showing top 20 rows\n",
      "\n"
     ]
    }
   ],
   "source": [
    "# # Input movies and Ratings for the input movies\n",
    "moviesInput = [\"Brother Bear\", \"Toy Story\", \"The Dark Knight\",\"Heat\"]\n",
    "ratings = [10, 9, 1, 2 ]\n",
    "numberOfRecommendation = 100\n",
    "\n",
    "# # Call the recommend_movies function\n",
    "recommended_movies_weight_matrix = recommend_movies_weight_matrix(movies_df, moviesInput, ratings, numberOfRecommendation)\n",
    "recommended_movies_weight_matrix.show(truncate=False)"
   ]
  },
  {
   "attachments": {},
   "cell_type": "markdown",
   "metadata": {},
   "source": [
    "<h4>Step 6: Model Evaluation</h4>\n",
    "\n",
    "To evaluate the results, we use kmeans clustering with 15 clusters to divide the movies based on their genre. For each movie, we build a vector using the genres columns and use this vector for our model. We then find the cluster for the input movies and compare them to the recommended movies to see how many are in the same cluster as the input movies. \n"
   ]
  },
  {
   "cell_type": "code",
   "execution_count": 6,
   "metadata": {},
   "outputs": [
    {
     "name": "stdout",
     "output_type": "stream",
     "text": [
      "Performance metric (accuracy): 0.99\n"
     ]
    }
   ],
   "source": [
    "def recommend_movies_kmeans(movies_df, likedMoviesInput, recommended_movies_weight_matrix, numberOfRecommendation):\n",
    "\n",
    "    # Assume that the movies input are movies that are liked\n",
    "    # Train kmean model\n",
    "    # Get predictions of cluster number of movies input\n",
    "    # Filter to search for recommended movies\n",
    "    # Show filter\n",
    "\n",
    "    # Format df so that each column is a genre\n",
    "    genres = movies_df.select(\"genres\").rdd.flatMap(lambda x: x[0].split(',')).distinct().collect()\n",
    "    for genre in genres:\n",
    "        movies_df = movies_df.withColumn(genre, col(\"genres\").contains(genre).cast(\"int\"))\n",
    "    for movie in likedMoviesInput:\n",
    "        movie_input_df = movies_df.filter(col('title') == movie)\n",
    "        for genre in genres:\n",
    "            movie_input_df = movie_input_df.withColumn(genre, col(genre))\n",
    "        movies_df = movies_df.filter(col('title') != movie).union(movie_input_df)\n",
    "\n",
    "    # Create feature vector\n",
    "    assembler = VectorAssembler(inputCols=genres, outputCol=\"features\")\n",
    "\n",
    "    movies_df = assembler.transform(movies_df)\n",
    "\n",
    "    # Format input movies as df\n",
    "    user_input_movies_df = movies_df.filter(col('title').isin(likedMoviesInput))\n",
    "\n",
    "    # Cluster movies using KMeans\n",
    "    kmeans = KMeans(k=15)\n",
    "    model = kmeans.fit(movies_df.select(\"features\"))\n",
    "\n",
    "    # Get cluster labels for all movies\n",
    "    clustered = model.transform(movies_df)\n",
    "\n",
    "    # Get cluster labels for user input movies\n",
    "    user_clustered = model.transform(user_input_movies_df).withColumnRenamed(\"title\", \"user_title\")\n",
    "    user_predictions = user_clustered.select('prediction').rdd.flatMap(lambda x: x).collect()\n",
    "\n",
    "    # Get recommended movies from same clusters as user input movies\n",
    "    cluster_movies_df = clustered.filter(col('prediction').isin(user_predictions)).filter(~col('title').isin(moviesInput))\n",
    "\n",
    "    # Get the cluster number for the recommended_movies from weight matrix \n",
    "    list_of_recommended_movies = recommended_movies_weight_matrix.select('id').rdd.flatMap(lambda x: x).collect()   \n",
    "    recommended_movies_df = cluster_movies_df.filter(col('id').isin(list_of_recommended_movies))\n",
    "    # recommended_movies_df.show(truncate=False)\n",
    " \n",
    "    print(\"Performance metric (accuracy): \" + str(recommended_movies_df.count() / numberOfRecommendation))\n",
    "    return recommended_movies_df.count() / numberOfRecommendation\n",
    "   \n",
    "\n",
    "# Input movies\n",
    "# liked_moviesInput =  [\"Brother Bear\", \"Toy Story\",\"Jumanji\"]\n",
    "liked_moviesInput = [\"Brother Bear\", \"Toy Story\", \"The Dark Knight\",\"Heat\"]\n",
    "\n",
    "# liked_moviesInput =  [\"Brother Bear\", \"Toy Story\", \"The Dark Knight\"]\n",
    "\n",
    "# Call the recommend_movies function\n",
    "recommended_movies = recommend_movies_kmeans(movies_df, liked_moviesInput, recommended_movies_weight_matrix, numberOfRecommendation)\n"
   ]
  },
  {
   "attachments": {},
   "cell_type": "markdown",
   "metadata": {},
   "source": [
    "<h4>Step 7: Model Performance</h4>\n",
    "\n",
    "For our model performance, we evaluate the accuracy of the recommended movies for different number of recommendation. We use `recommend_movies_kmeans` with different number of recommendation to get the accuracy and plot it. Looking at the plot from the code below, we see that the more movies we want, the less accurate the movies are.\n"
   ]
  },
  {
   "cell_type": "code",
   "execution_count": 7,
   "metadata": {},
   "outputs": [
    {
     "name": "stdout",
     "output_type": "stream",
     "text": [
      "Performance metric (accuracy): 0.98\n",
      "Performance metric (accuracy): 0.99\n",
      "Performance metric (accuracy): 0.9666666666666667\n",
      "Performance metric (accuracy): 0.95\n",
      "Performance metric (accuracy): 0.96\n",
      "Performance metric (accuracy): 0.9666666666666667\n",
      "Performance metric (accuracy): 0.9714285714285714\n",
      "Performance metric (accuracy): 0.97\n",
      "Performance metric (accuracy): 0.9711111111111111\n",
      "Performance metric (accuracy): 0.966\n",
      "Performance metric (accuracy): 0.9036363636363637\n",
      "Performance metric (accuracy): 0.865\n",
      "[50, 100, 150, 200, 250, 300, 350, 400, 450, 500, 550, 600]\n",
      "[0.98, 0.99, 0.96667, 0.95, 0.96, 0.96667, 0.97143, 0.97, 0.97111, 0.966, 0.90364, 0.865]\n"
     ]
    },
    {
     "data": {
      "image/png": "[encoded data removed]",
      "text/plain": [
       "<Figure size 640x480 with 1 Axes>"
      ]
     },
     "metadata": {},
     "output_type": "display_data"
    }
   ],
   "source": [
    "x_nb_recommendation = []\n",
    "y_accuracy = []\n",
    "\n",
    "for i in range(50,601,50):\n",
    "    recommended_movies_weight_matrix = recommend_movies_weight_matrix(movies_df, moviesInput, ratings, i)\n",
    "    temp_accuracy = recommend_movies_kmeans(movies_df, liked_moviesInput, recommended_movies_weight_matrix, i)\n",
    "    x_nb_recommendation.append(i)\n",
    "    y_accuracy.append(temp_accuracy)\n",
    "\n",
    "y_accuracy = [round(num, 5) for num in y_accuracy]  \n",
    "\n",
    "print(x_nb_recommendation)\n",
    "print(y_accuracy)\n",
    "\n",
    "plt.plot(x_nb_recommendation, y_accuracy, 'ro')\n",
    "plt.xlabel('x - number of recommendation')\n",
    "plt.ylabel('y - accuracy')\n",
    "plt.title(\"Accuracy of Content-Based Recommendation System for different number of recommendation\")\n",
    "plt.ylim([0, 1])\n",
    "\n",
    "plt.show()\n",
    "\n"
   ]
  },
  {
   "attachments": {},
   "cell_type": "markdown",
   "metadata": {},
   "source": [
    "<h4> Step 8: The end</h4>"
   ]
  },
  {
   "cell_type": "code",
   "execution_count": null,
   "metadata": {},
   "outputs": [],
   "source": [
    "spark.stop()"
   ]
  }
 ],
 "metadata": {
  "kernelspec": {
   "display_name": "venv",
   "language": "python",
   "name": "python3"
  },
  "language_info": {
   "codemirror_mode": {
    "name": "ipython",
    "version": 3
   },
   "file_extension": ".py",
   "mimetype": "text/x-python",
   "name": "python",
   "nbconvert_exporter": "python",
   "pygments_lexer": "ipython3",
   "version": "3.10.9"
  },
  "orig_nbformat": 4
 },
 "nbformat": 4,
 "nbformat_minor": 2
}
